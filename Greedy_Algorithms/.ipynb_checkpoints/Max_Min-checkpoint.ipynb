{
 "cells": [
  {
   "cell_type": "code",
   "execution_count": 9,
   "metadata": {},
   "outputs": [
    {
     "name": "stdout",
     "output_type": "stream",
     "text": [
      "7\n",
      "3\n",
      "100\n",
      "200\n",
      "300\n",
      "350\n",
      "400\n",
      "401\n",
      "402\n",
      "2\n",
      "\n"
     ]
    }
   ],
   "source": [
    "# Max Min\n",
    "# Complete the maxMin function below.\n",
    "def maxMin(k, arr):\n",
    "    sortedArr = sorted(arr)\n",
    "    max_min = sortedArr[k-1] - sortedArr[0]\n",
    "    for i in range(1, len(arr)-k+1):\n",
    "        tmp = sortedArr[i+k-1] - sortedArr[i]\n",
    "        if tmp < max_min:\n",
    "            max_min = tmp\n",
    "    return max_min\n",
    "\n",
    "n = int(input())\n",
    "k = int(input())\n",
    "arr = []\n",
    "for _ in range(n):\n",
    "    arr_item = int(input())\n",
    "    arr.append(arr_item)\n",
    "result = maxMin(k, arr)\n",
    "print(str(result) + '\\n')"
   ]
  },
  {
   "cell_type": "code",
   "execution_count": null,
   "metadata": {},
   "outputs": [],
   "source": []
  }
 ],
 "metadata": {
  "kernelspec": {
   "display_name": "Python 3",
   "language": "python",
   "name": "python3"
  },
  "language_info": {
   "codemirror_mode": {
    "name": "ipython",
    "version": 3
   },
   "file_extension": ".py",
   "mimetype": "text/x-python",
   "name": "python",
   "nbconvert_exporter": "python",
   "pygments_lexer": "ipython3",
   "version": "3.7.1"
  }
 },
 "nbformat": 4,
 "nbformat_minor": 2
}
