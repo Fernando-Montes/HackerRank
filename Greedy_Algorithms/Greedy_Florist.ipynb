{
 "cells": [
  {
   "cell_type": "code",
   "execution_count": 9,
   "metadata": {},
   "outputs": [
    {
     "name": "stdout",
     "output_type": "stream",
     "text": [
      "5 3\n",
      "1 3 5 7 9\n",
      "29\n",
      "\n"
     ]
    }
   ],
   "source": [
    "# Greedy Florist\n",
    "def getMinimumCost(k, c):\n",
    "    sortedC = sorted(c, reverse = True)\n",
    "    pp = 0 # Number of previous purchases - 1\n",
    "    cost = 0\n",
    "    for i in range(len(sortedC)):\n",
    "        if i%k == 0:\n",
    "            pp = pp + 1\n",
    "        cost = cost + pp*sortedC[i]\n",
    "    return cost\n",
    "\n",
    "nk = input().split()\n",
    "n = int(nk[0])\n",
    "k = int(nk[1])\n",
    "c = list(map(int, input().rstrip().split()))\n",
    "minimumCost = getMinimumCost(k, c)\n",
    "print(str(minimumCost) + '\\n')\n"
   ]
  }
 ],
 "metadata": {
  "kernelspec": {
   "display_name": "Python 3",
   "language": "python",
   "name": "python3"
  },
  "language_info": {
   "codemirror_mode": {
    "name": "ipython",
    "version": 3
   },
   "file_extension": ".py",
   "mimetype": "text/x-python",
   "name": "python",
   "nbconvert_exporter": "python",
   "pygments_lexer": "ipython3",
   "version": "3.7.1"
  }
 },
 "nbformat": 4,
 "nbformat_minor": 2
}
