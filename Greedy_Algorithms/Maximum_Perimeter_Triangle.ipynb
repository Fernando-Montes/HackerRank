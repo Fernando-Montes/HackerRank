{
 "cells": [
  {
   "cell_type": "code",
   "execution_count": 12,
   "metadata": {},
   "outputs": [
    {
     "name": "stdout",
     "output_type": "stream",
     "text": [
      "5\n",
      "3 9 2 15 3\n",
      "2 3 3\n"
     ]
    }
   ],
   "source": [
    "from itertools import combinations\n",
    "\n",
    "def maximumPerimeterTriangle(sticks):\n",
    "    maxP = 0  # largest perimeter\n",
    "    maxS = 0  # longest side\n",
    "    minS = 0  # shortest side\n",
    "    sol = None\n",
    "    for iter in combinations(sticks, 3):\n",
    "        sorted_iter = sorted(iter)\n",
    "        if sorted_iter[0] + sorted_iter[1] > sorted_iter[2]: # valid triangle\n",
    "            if sum(sorted_iter) >= maxP:\n",
    "                if sorted_iter[2] >= maxS:\n",
    "                    if sorted_iter[0] >= minS:\n",
    "                        maxP = sum(sorted_iter)\n",
    "                        maxS = sorted_iter[2]\n",
    "                        minS = sorted_iter[0]\n",
    "                        sol = sorted_iter\n",
    "    if not sol:\n",
    "            return [-1]\n",
    "    else:\n",
    "        return sol\n",
    "\n",
    "n = int(input())\n",
    "sticks = list(map(int, input().rstrip().split()))\n",
    "result = maximumPerimeterTriangle(sticks)\n",
    "print(' '.join(map(str, result)))"
   ]
  }
 ],
 "metadata": {
  "kernelspec": {
   "display_name": "Python 3",
   "language": "python",
   "name": "python3"
  },
  "language_info": {
   "codemirror_mode": {
    "name": "ipython",
    "version": 3
   },
   "file_extension": ".py",
   "mimetype": "text/x-python",
   "name": "python",
   "nbconvert_exporter": "python",
   "pygments_lexer": "ipython3",
   "version": "3.7.1"
  }
 },
 "nbformat": 4,
 "nbformat_minor": 2
}
