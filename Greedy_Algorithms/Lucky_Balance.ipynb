{
 "cells": [
  {
   "cell_type": "code",
   "execution_count": 84,
   "metadata": {},
   "outputs": [
    {
     "name": "stdout",
     "output_type": "stream",
     "text": [
      "6 3\n",
      "5 1\n",
      "2 1\n",
      "1 1\n",
      "8 1\n",
      "10 0\n",
      "5 0\n",
      "29\n",
      "\n"
     ]
    }
   ],
   "source": [
    "# Luck Balance\n",
    "def luckBalance(k, contests):\n",
    "    luck_IC = sorted([pair[0] for pair in contests if pair[1] == 1], reverse = True)\n",
    "    luck_NIC = [pair[0] for pair in contests if pair[1] == 0]\n",
    "    return sum(luck_IC[0:k]) + sum(luck_NIC) - sum(luck_IC[k:])\n",
    "\n",
    "nk = input().split()\n",
    "n = int(nk[0])\n",
    "k = int(nk[1])\n",
    "contests = []\n",
    "for _ in range(n):\n",
    "    contests.append(list(map(int, input().rstrip().split())))\n",
    "result = luckBalance(k, contests)\n",
    "print(str(result) + '\\n')"
   ]
  }
 ],
 "metadata": {
  "kernelspec": {
   "display_name": "Python 3",
   "language": "python",
   "name": "python3"
  },
  "language_info": {
   "codemirror_mode": {
    "name": "ipython",
    "version": 3
   },
   "file_extension": ".py",
   "mimetype": "text/x-python",
   "name": "python",
   "nbconvert_exporter": "python",
   "pygments_lexer": "ipython3",
   "version": "3.7.1"
  }
 },
 "nbformat": 4,
 "nbformat_minor": 2
}
