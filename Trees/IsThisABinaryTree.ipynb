{
 "cells": [
  {
   "cell_type": "code",
   "execution_count": null,
   "metadata": {},
   "outputs": [],
   "source": [
    "# Trees: Is this a binary tree?\n",
    "#https://www.hackerrank.com/challenges/ctci-is-binary-search-tree/problem?h_l=interview&playlist_slugs%5B%5D=interview-preparation-kit&playlist_slugs%5B%5D=trees\n",
    "\n",
    "class node(data):\n",
    "    def __init__(self, data):\n",
    "        self.data = data\n",
    "        self.left = None\n",
    "        self.right = None\n",
    "        \n",
    "def validTree(root, maxValue, minValue):  \n",
    "    if root == None:\n",
    "        return(True)\n",
    "    else:\n",
    "        if minValue == None: # Branch all the way to the left\n",
    "            if root.data < maxValue: \n",
    "                return( validTree(root.left, root.data, None) and validTree(root.right, maxValue, root.data) )\n",
    "            else:\n",
    "                return(False)\n",
    "        elif maxValue == None: # Branch all the way to the right\n",
    "            if root.data > minValue:     \n",
    "                return( validTree(root.left, root.data, minValue) and validTree(root.right, None, root.data) )\n",
    "            else:\n",
    "                return(False)   \n",
    "        else: # All other branches:\n",
    "            if root.data < maxValue and root.data > minValue: \n",
    "                return( validTree(root.left, root.data, minValue) and validTree(root.right, maxValue, root.data) )\n",
    "            else:\n",
    "                return(False)\n",
    "        \n",
    "def checkBST(root):\n",
    "    if root == None:\n",
    "        return(True)\n",
    "    else:\n",
    "        if validTree(root.left, root.data, None) == True and validTree(root.right, None, root.data) == True:\n",
    "            return(True)\n",
    "        else:\n",
    "            return(False)"
   ]
  }
 ],
 "metadata": {
  "kernelspec": {
   "display_name": "Python 3",
   "language": "python",
   "name": "python3"
  },
  "language_info": {
   "codemirror_mode": {
    "name": "ipython",
    "version": 3
   },
   "file_extension": ".py",
   "mimetype": "text/x-python",
   "name": "python",
   "nbconvert_exporter": "python",
   "pygments_lexer": "ipython3",
   "version": "3.7.1"
  }
 },
 "nbformat": 4,
 "nbformat_minor": 2
}
