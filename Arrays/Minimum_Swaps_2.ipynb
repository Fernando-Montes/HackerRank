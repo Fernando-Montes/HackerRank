{
 "cells": [
  {
   "cell_type": "code",
   "execution_count": 19,
   "metadata": {},
   "outputs": [
    {
     "name": "stdout",
     "output_type": "stream",
     "text": [
      "7\n",
      "7 1 3 2 4 5 6\n",
      "5\n",
      "\n"
     ]
    }
   ],
   "source": [
    "# Minimum Swaps 2\n",
    "def swap(arr, i, pos_i):\n",
    "    tmp = arr[i-1]\n",
    "    arr[i-1] = i\n",
    "    arr[pos_i] = tmp\n",
    "    return arr\n",
    "\n",
    "def minimumSwaps(arr):\n",
    "    sortedArr = sorted(arr)\n",
    "    totalSwaps = 0\n",
    "    i = 0\n",
    "    while i < len(arr):\n",
    "        if arr[i] != sortedArr[i]:\n",
    "            arr = swap(arr, arr[i], i)\n",
    "            totalSwaps = totalSwaps + 1\n",
    "        else:\n",
    "            i = i + 1\n",
    "    return totalSwaps\n",
    "\n",
    "n = int(input())\n",
    "arr = list(map(int, input().rstrip().split()))\n",
    "res = minimumSwaps(arr)\n",
    "print(str(res) + '\\n')\n"
   ]
  }
 ],
 "metadata": {
  "kernelspec": {
   "display_name": "Python 3",
   "language": "python",
   "name": "python3"
  },
  "language_info": {
   "codemirror_mode": {
    "name": "ipython",
    "version": 3
   },
   "file_extension": ".py",
   "mimetype": "text/x-python",
   "name": "python",
   "nbconvert_exporter": "python",
   "pygments_lexer": "ipython3",
   "version": "3.7.1"
  }
 },
 "nbformat": 4,
 "nbformat_minor": 2
}
