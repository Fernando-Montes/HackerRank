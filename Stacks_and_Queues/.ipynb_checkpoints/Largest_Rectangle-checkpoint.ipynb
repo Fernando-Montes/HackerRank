{
 "cells": [
  {
   "cell_type": "code",
   "execution_count": 16,
   "metadata": {},
   "outputs": [
    {
     "name": "stdout",
     "output_type": "stream",
     "text": [
      "10\n",
      "6320 6020 6098 1332 7263 672 9472 2838 3401 9494\n",
      "18060\n",
      "\n"
     ]
    }
   ],
   "source": [
    "# Largest Rectangle\n",
    "# Works but slow.....\n",
    "def resetMax(currentMax, num, maxHeight, maxArea):\n",
    "    for i in range(num+1, maxHeight+1):\n",
    "        if currentMax[i] > maxArea:\n",
    "            maxArea = currentMax[i]\n",
    "        currentMax[i] = 0\n",
    "    return currentMax, maxArea, num+1\n",
    "\n",
    "def largestRectangle(h):\n",
    "    maxArea = 0\n",
    "    currentMax = [0]*100000\n",
    "    maxHeight = 0\n",
    "    for num in h:\n",
    "        currentMax, maxArea, maxHeight = resetMax(currentMax, num, maxHeight, maxArea)\n",
    "        for i in range(1, num+1):\n",
    "            currentMax[i] = currentMax[i] + i\n",
    "    currentMax, maxArea, maxHeight = resetMax(currentMax, 0, maxHeight, maxArea)\n",
    "    return maxArea\n",
    "    \n",
    "n = int(input())\n",
    "h = list(map(int, input().rstrip().split()))\n",
    "result = largestRectangle(h)\n",
    "print(str(result) + '\\n')"
   ]
  },
  {
   "cell_type": "code",
   "execution_count": 57,
   "metadata": {},
   "outputs": [
    {
     "name": "stdout",
     "output_type": "stream",
     "text": [
      "3\n",
      "3 2 3\n",
      "6\n",
      "\n"
     ]
    }
   ],
   "source": [
    "# Largest Rectangle\n",
    "\n",
    "def largestRectangle(h):\n",
    "    n = len(h)\n",
    "    if n == 1:\n",
    "        return h[0]\n",
    "    else:\n",
    "        h1 = h[:int(n/2)]\n",
    "        h2 = h[int(n/2):]\n",
    "        max1 = largestRectangle(h1)\n",
    "        max2 = largestRectangle(h2)\n",
    "        # And then combine :\n",
    "        min1c = min( h1[-1], h2[0] )\n",
    "        l1c = 1\n",
    "        min2c = min( h1[-1], h2[0] )\n",
    "        l2c = 1\n",
    "        max1c = (1+l1c)*min1c\n",
    "        max2c = (1+l2c)*min2c\n",
    "        max3 = max( max1c, max2c )\n",
    "        for i in range(1, int(n/2)+1):\n",
    "            if i < len(h1):\n",
    "                min1c = min(min1c, h1[-1-i])\n",
    "                while l1c < len(h1) and h2[l1c-1] >= min1c:\n",
    "                    l1c = l1c + 1\n",
    "                if (i+1+l1c-1)*min1c >= max1c:\n",
    "                    max1c = (i+1+l1c-1)*min1c\n",
    "            if i < len(h2):\n",
    "                min2c = min(min2c, h2[i])\n",
    "                while l2c < len(h2) and h1[-l2c] >= min2c:\n",
    "                    l2c = l2c + 1\n",
    "                if (i+1+l2c-1)*min2c >= max2c:\n",
    "                    max2c = (i+1+l2c-1)*min2c\n",
    "            #print(max1c, max2c)\n",
    "            max3 = max( max3, max1c, max2c )\n",
    "        #print(h1, h2, max1, max2, max3)\n",
    "        return max( max1, max2, max3 )\n",
    "    \n",
    "n = int(input())\n",
    "h = list(map(int, input().rstrip().split()))\n",
    "result = largestRectangle(h)\n",
    "print(str(result) + '\\n')"
   ]
  }
 ],
 "metadata": {
  "kernelspec": {
   "display_name": "Python 3",
   "language": "python",
   "name": "python3"
  },
  "language_info": {
   "codemirror_mode": {
    "name": "ipython",
    "version": 3
   },
   "file_extension": ".py",
   "mimetype": "text/x-python",
   "name": "python",
   "nbconvert_exporter": "python",
   "pygments_lexer": "ipython3",
   "version": "3.7.1"
  }
 },
 "nbformat": 4,
 "nbformat_minor": 2
}
