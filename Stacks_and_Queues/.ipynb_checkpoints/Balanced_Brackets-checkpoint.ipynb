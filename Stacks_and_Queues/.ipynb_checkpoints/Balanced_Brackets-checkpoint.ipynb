{
 "cells": [
  {
   "cell_type": "code",
   "execution_count": 1,
   "metadata": {},
   "outputs": [
    {
     "name": "stdout",
     "output_type": "stream",
     "text": [
      "1\n",
      "{}\n",
      "YES\n",
      "\n"
     ]
    }
   ],
   "source": [
    "# Balanced brackets\n",
    "import math\n",
    "import os\n",
    "import random\n",
    "import re\n",
    "import sys\n",
    "\n",
    "# Complete the isBalanced function below.\n",
    "def isBalanced(s):\n",
    "    s = list(map(str, s.strip()))\n",
    "    q = [None]*len(s)\n",
    "    length_q = 0\n",
    "    for b in s:\n",
    "        if b == '(' or b == '{' or b == '[':\n",
    "            q[length_q] = b\n",
    "            length_q = length_q + 1\n",
    "        else:\n",
    "            if ( b == ')' and q[length_q-1] == '(' ) or \\\n",
    "               ( b == '}' and q[length_q-1] == '{' ) or \\\n",
    "               ( b == ']' and q[length_q-1] == '[' ):\n",
    "                length_q = length_q - 1\n",
    "            else:\n",
    "                return('NO')\n",
    "    if length_q == 0:\n",
    "        return('YES')\n",
    "    else:\n",
    "        return('NO')\n",
    "    \n",
    "if __name__ == '__main__':\n",
    "    t = int(input())\n",
    "    for t_itr in range(t):\n",
    "        s = input()\n",
    "        result = isBalanced(s)\n",
    "        print(result + '\\n')"
   ]
  }
 ],
 "metadata": {
  "kernelspec": {
   "display_name": "Python 3",
   "language": "python",
   "name": "python3"
  },
  "language_info": {
   "codemirror_mode": {
    "name": "ipython",
    "version": 3
   },
   "file_extension": ".py",
   "mimetype": "text/x-python",
   "name": "python",
   "nbconvert_exporter": "python",
   "pygments_lexer": "ipython3",
   "version": "3.7.1"
  }
 },
 "nbformat": 4,
 "nbformat_minor": 2
}
