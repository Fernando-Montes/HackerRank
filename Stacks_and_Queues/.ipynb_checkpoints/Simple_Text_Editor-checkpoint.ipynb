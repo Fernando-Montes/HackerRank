{
 "cells": [
  {
   "cell_type": "code",
   "execution_count": 49,
   "metadata": {},
   "outputs": [
    {
     "name": "stdout",
     "output_type": "stream",
     "text": [
      "8\n",
      "1 abc\n",
      "3 3\n",
      "c\n",
      "2 3\n",
      "1 xy\n",
      "3 2\n",
      "y\n",
      "4\n",
      "4\n",
      "3 1\n",
      "a\n"
     ]
    }
   ],
   "source": [
    "# Simple text editor\n",
    "editor = []\n",
    "q = int(input())\n",
    "for i in range(q):\n",
    "    arr = input().split()\n",
    "    if int(arr[0]) == 1:    # Append\n",
    "        if len(editor) > 0: \n",
    "            editor.append(editor[-1] + list(arr[1]))\n",
    "        else:\n",
    "            editor.append(list(arr[1]))\n",
    "    elif int(arr[0]) == 2:    # Delete\n",
    "        editor.append( editor[-1][:-int(arr[1])] )\n",
    "    elif int(arr[0]) == 3:    # Print\n",
    "            print(editor[-1][int(arr[1])-1])\n",
    "    else :                    # Undo\n",
    "        editor.pop()\n",
    "    #print(editor)"
   ]
  }
 ],
 "metadata": {
  "kernelspec": {
   "display_name": "Python 3",
   "language": "python",
   "name": "python3"
  },
  "language_info": {
   "codemirror_mode": {
    "name": "ipython",
    "version": 3
   },
   "file_extension": ".py",
   "mimetype": "text/x-python",
   "name": "python",
   "nbconvert_exporter": "python",
   "pygments_lexer": "ipython3",
   "version": "3.7.1"
  }
 },
 "nbformat": 4,
 "nbformat_minor": 2
}
