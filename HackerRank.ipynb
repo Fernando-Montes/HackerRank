{
 "cells": [
  {
   "cell_type": "code",
   "execution_count": 1,
   "metadata": {},
   "outputs": [],
   "source": [
    "# Calculate height of binary search tree\n",
    "class Node:\n",
    "    def __init__(self, info): \n",
    "        self.info = info  \n",
    "        self.left = None  \n",
    "        self.right = None \n",
    "        self.level = None \n",
    "\n",
    "    def __str__(self):\n",
    "        return str(self.info) \n",
    "\n",
    "class BinarySearchTree:\n",
    "    def __init__(self): \n",
    "        self.root = None\n",
    "\n",
    "    def create(self, val):  \n",
    "        if self.root == None:\n",
    "            self.root = Node(val)\n",
    "        else:\n",
    "            current = self.root\n",
    "            while True:\n",
    "                if val < current.info:\n",
    "                    if current.left:\n",
    "                        current = current.left\n",
    "                    else:\n",
    "                        current.left = Node(val)\n",
    "                        break\n",
    "                elif val > current.info:\n",
    "                    if current.right:\n",
    "                        current = current.right\n",
    "                    else:\n",
    "                        current.right = Node(val)\n",
    "                        break\n",
    "                else:\n",
    "                    break"
   ]
  },
  {
   "cell_type": "code",
   "execution_count": 76,
   "metadata": {},
   "outputs": [],
   "source": [
    "def height(tree):\n",
    "    if tree:\n",
    "        hl = height(tree.left)\n",
    "        hr = height(tree.right)\n",
    "        return(1 + max(hl,hr))\n",
    "    else:\n",
    "        return(-1)"
   ]
  },
  {
   "cell_type": "code",
   "execution_count": 77,
   "metadata": {},
   "outputs": [
    {
     "data": {
      "text/plain": [
       "1"
      ]
     },
     "execution_count": 77,
     "metadata": {},
     "output_type": "execute_result"
    }
   ],
   "source": [
    "node = BinarySearchTree()\n",
    "node.create(5)\n",
    "node.create(3)\n",
    "node.create(6)\n",
    "height(node.root)"
   ]
  },
  {
   "cell_type": "code",
   "execution_count": 832,
   "metadata": {},
   "outputs": [
    {
     "name": "stdout",
     "output_type": "stream",
     "text": [
      "RIGHT\n"
     ]
    }
   ],
   "source": [
    "# Tron\n",
    "import random as rnd\n",
    "\n",
    "def inputData():\n",
    "    player = input() \n",
    "    pos = [int(i) for i in input().strip().split()]\n",
    "    board = [[j for j in input().strip()] for i in range(15)]\n",
    "    return player, pos, board\n",
    "\n",
    "def checkMove(posx, posy, board, move):\n",
    "    if move == 'r' and board[posx][posy+1] == '-':\n",
    "        return 'RIGHT'\n",
    "    elif move == 'l' and board[posx][posy-1] == '-':\n",
    "        return 'LEFT'\n",
    "    elif move == 'u' and board[posx-1][posy] == '-':\n",
    "        return 'UP'\n",
    "    elif move == 'd' and board[posx+1][posy] == '-':\n",
    "        return 'DOWN'\n",
    "    return None\n",
    "    \n",
    "def empty(player, posx, posy, board, inception):\n",
    "    '''\n",
    "    Function that assigns a value given a possible future position. Value is assigned \n",
    "    based on number of future moves\n",
    "    '''\n",
    "    total = 0\n",
    "    inception = inception + 1\n",
    "    if board[posx][posy] == '-' and inception < 10:\n",
    "        board_copy = [row[:] for row in board]\n",
    "        board_copy[posx][posy] = player\n",
    "        if board[posx-1][posy] == '-':\n",
    "            total = total + 1 + 0.9*empty(player, posx-1, posy, board_copy, inception)\n",
    "        if board[posx+1][posy] == '-':\n",
    "            total = total + 1 + 0.9*empty(player, posx+1, posy, board_copy, inception)\n",
    "        if board[posx][posy-1] == '-':\n",
    "            total = total + 1 + 0.9*empty(player, posx, posy-1, board_copy, inception)\n",
    "        if board[posx][posy+1] == '-':\n",
    "            total = total + 1 + 0.9*empty(player, posx, posy+1, board_copy, inception)\n",
    "    return total\n",
    "            \n",
    "def nextMoveStr(player, posx, posy, board):\n",
    "    r = empty(player, posx, posy+1, board, 0)\n",
    "    l = empty(player, posx, posy-1, board, 0)\n",
    "    u = empty(player, posx-1, posy, board, 0)\n",
    "    d = empty(player, posx+1, posy, board, 0)\n",
    "    norm = r+l+u+d\n",
    "    return [r/norm,l/norm,u/norm,d/norm]\n",
    "\n",
    "def farWallStr(player_opp, posx, posy, board):\n",
    "    r = posy + 1\n",
    "    while board[posx][r] == '-' or board[posx][r] == player_opp and r<14:\n",
    "        r = r + 1\n",
    "    r = r - posy - 1\n",
    "    l = posy - 1\n",
    "    while board[posx][l] == '-' or board[posx][l] == player_opp and l>0:\n",
    "        l = l - 1\n",
    "    l = posy - l - 1\n",
    "    u = posx - 1\n",
    "    while board[u][posy] == '-' or board[u][posy] == player_opp and u>0:\n",
    "        u = u - 1 \n",
    "    u = posx - u - 1\n",
    "    d = posx + 1\n",
    "    while board[d][posy] == '-' or board[d][posy] == player_opp and d<14:\n",
    "        d = d + 1\n",
    "    d = d - posx - 1\n",
    "    norm = r+l+u+d\n",
    "    return [r/norm,l/norm,u/norm,d/norm]\n",
    "    \n",
    "def next_move_choices(player, pos, board):\n",
    "    weight = 1.5\n",
    "    if player == 'r':\n",
    "        posx = pos[0]\n",
    "        posy = pos[1]\n",
    "        player_opp = 'g'\n",
    "    else:\n",
    "        posx = pos[2]\n",
    "        posy = pos[3]\n",
    "        player_opp = 'r'\n",
    "    poss_nextMoveStr = nextMoveStr(player, posx, posy, board)  \n",
    "    poss_farWallStr  = farWallStr(player_opp, posx, posy, board)    \n",
    "    r = poss_nextMoveStr[0] + weight*poss_farWallStr[0]\n",
    "    move = checkMove(posx, posy, board, 'r')\n",
    "    l = poss_nextMoveStr[1] + weight*poss_farWallStr[1]\n",
    "    if l > r or move == None:\n",
    "        move = checkMove(posx, posy, board, 'l')\n",
    "    u = poss_nextMoveStr[2] + weight*poss_farWallStr[2]\n",
    "    if u > max(l,r) or move == None:\n",
    "        move = checkMove(posx, posy, board, 'u')\n",
    "    d = poss_nextMoveStr[3] + weight*poss_farWallStr[3]\n",
    "    if d > max(l,r,u) or move == None:\n",
    "        move = checkMove(posx, posy, board, 'd')\n",
    "    #print(poss_nextMoveStr)\n",
    "    #print(poss_farWallStr)\n",
    "    #print(r,l,u,d, move)\n",
    "    return [move]\n",
    "            \n",
    "def next_move(player, pos, board):\n",
    "    poss = next_move_choices(player, pos, board)\n",
    "    print( rnd.choice(poss) )\n",
    "    \n",
    "#player, pos, board = inputData()\n",
    "player, pos, board = ('r',[4, 3, 5, 13],[['#', '#', '#', '#', '#', '#', '#', '#', '#', '#', '#', '#', '#', '#', '#'], ['#', '-', 'r', 'r', '-', '-', '-', '-', '-', '-', '-', '-', 'g', 'g', '#'], ['#', '-', 'r', 'r', '-', '-', '-', '-', '-', '-', '-', '-', 'g', 'g', '#'], ['#', '-', 'r', 'r', '-', '-', '-', '-', '-', '-', '-', '-', 'g', 'g', '#'], ['#', '-', 'r', 'r', '-', '-', '-', '-', '-', '-', '-', '-', 'g', 'g', '#'], ['#', '-', 'r', '-', '-', '-', '-', '-', '-', '-', '-', '-', 'g', '-', '#'], ['#', '-', 'r', '-', '-', '-', '-', '-', '-', '-', '-', '-', 'g', 'g', '#'], ['#', 'r', 'r', '-', '-', '-', '-', '-', '-', '-', '-', '-', '-', 'g', '#'], ['#', '-', '-', '-', '-', '-', '-', '-', '-', '-', '-', '-', '-', '-', '#'], ['#', '-', '-', '-', '-', '-', '-', '-', '-', '-', '-', '-', '-', '-', '#'], ['#', '-', '-', '-', '-', '-', '-', '-', '-', '-', '-', '-', '-', '-', '#'], ['#', '-', '-', '-', '-', '-', '-', '-', '-', '-', '-', '-', '-', '-', '#'], ['#', '-', '-', '-', '-', '-', '-', '-', '-', '-', '-', '-', '-', '-', '#'], ['#', '-', '-', '-', '-', '-', '-', '-', '-', '-', '-', '-', '-', '-', '#'], ['#', '#', '#', '#', '#', '#', '#', '#', '#', '#', '#', '#', '#', '#', '#']])\n",
    "#player, pos, board = ('r',[7, 1, 7, 13],[['#', '#', '#', '#', '#', '#', '#', '#', '#', '#', '#', '#', '#', '#', '#'], ['#', '-', '-', '-', '-', '-', '-', '-', '-', '-', '-', '-', '-', '-', '#'], ['#', '-', '-', '-', '-', '-', '-', '-', '-', '-', '-', '-', '-', '-', '#'], ['#', '-', '-', '-', '-', '-', '-', '-', '-', '-', '-', '-', '-', '-', '#'], ['#', '-', '-', '-', '-', '-', '-', '-', '-', '-', '-', '-', '-', '-', '#'], ['#', '-', '-', '-', '-', '-', '-', '-', '-', '-', '-', '-', '-', '-', '#'], ['#', '-', '-', '-', '-', '-', '-', '-', '-', '-', '-', '-', '-', '-', '#'], ['#', 'r', '-', '-', '-', '-', '-', '-', '-', '-', '-', '-', '-', 'g', '#'], ['#', '-', '-', '-', '-', '-', '-', '-', '-', '-', '-', '-', '-', '-', '#'], ['#', '-', '-', '-', '-', '-', '-', '-', '-', '-', '-', '-', '-', '-', '#'], ['#', '-', '-', '-', '-', '-', '-', '-', '-', '-', '-', '-', '-', '-', '#'], ['#', '-', '-', '-', '-', '-', '-', '-', '-', '-', '-', '-', '-', '-', '#'], ['#', '-', '-', '-', '-', '-', '-', '-', '-', '-', '-', '-', '-', '-', '#'], ['#', '-', '-', '-', '-', '-', '-', '-', '-', '-', '-', '-', '-', '-', '#'], ['#', '#', '#', '#', '#', '#', '#', '#', '#', '#', '#', '#', '#', '#', '#']])\n",
    "#player, pos, board = ('r',[7, 2, 6, 13],[['#', '#', '#', '#', '#', '#', '#', '#', '#', '#', '#', '#', '#', '#', '#'], ['#', '-', '-', '-', '-', '-', '-', '-', '-', '-', '-', '-', '-', '-', '#'], ['#', '-', '-', '-', '-', '-', '-', '-', '-', '-', '-', '-', '-', '-', '#'], ['#', '-', '-', '-', '-', '-', '-', '-', '-', '-', '-', '-', '-', '-', '#'], ['#', '-', '-', '-', '-', '-', '-', '-', '-', '-', '-', '-', '-', '-', '#'], ['#', '-', '-', '-', '-', '-', '-', '-', '-', '-', '-', '-', '-', '-', '#'], ['#', '-', '-', '-', '-', '-', '-', '-', '-', '-', '-', '-', '-', 'g', '#'], ['#', 'r', 'r', '-', '-', '-', '-', '-', '-', '-', '-', '-', '-', 'g', '#'], ['#', '-', '-', '-', '-', '-', '-', '-', '-', '-', '-', '-', '-', '-', '#'], ['#', '-', '-', '-', '-', '-', '-', '-', '-', '-', '-', '-', '-', '-', '#'], ['#', '-', '-', '-', '-', '-', '-', '-', '-', '-', '-', '-', '-', '-', '#'], ['#', '-', '-', '-', '-', '-', '-', '-', '-', '-', '-', '-', '-', '-', '#'], ['#', '-', '-', '-', '-', '-', '-', '-', '-', '-', '-', '-', '-', '-', '#'], ['#', '-', '-', '-', '-', '-', '-', '-', '-', '-', '-', '-', '-', '-', '#'], ['#', '#', '#', '#', '#', '#', '#', '#', '#', '#', '#', '#', '#', '#', '#']])\n",
    "next_move(player, pos, board)"
   ]
  },
  {
   "cell_type": "code",
   "execution_count": null,
   "metadata": {},
   "outputs": [],
   "source": [
    "# Obsolete strategies\n",
    "def randomStr(posx, posy, board):\n",
    "    poss = []\n",
    "    if board[posx][posy-1] == '-':\n",
    "        poss.append('LEFT')\n",
    "    if board[posx][posy+1] == '-':\n",
    "        poss.append('RIGHT')\n",
    "    if board[posx-1][posy] == '-':\n",
    "        poss.append('UP') \n",
    "    if board[posx+1][posy] == '-':\n",
    "        poss.append('DOWN')\n",
    "    return poss\n",
    "\n",
    "def farWallStr(player_opp, posx, posy, board):\n",
    "    r = posy + 1\n",
    "    while board[posx][r] == '-' or board[posx][r] == player_opp and r<14:\n",
    "        r = r + 1\n",
    "    r = r - posy - 1\n",
    "    move = checkMove(posx, posy, board, 'r')\n",
    "    l = posy - 1\n",
    "    while board[posx][l] == '-' or board[posx][l] == player_opp and l>0:\n",
    "        l = l - 1\n",
    "    l = posy - l - 1\n",
    "    if l > r or move == None:\n",
    "        tmp = checkMove(posx, posy, board, 'l')\n",
    "        if tmp != None:\n",
    "            move = tmp\n",
    "    u = posx - 1\n",
    "    while board[u][posy] == '-' or board[u][posy] == player_opp and u>0:\n",
    "        u = u - 1 \n",
    "    u = posx - u - 1\n",
    "    if u > max(l,r) or move == None:\n",
    "        tmp = checkMove(posx, posy, board, 'u')\n",
    "        if tmp != None:\n",
    "            move = tmp\n",
    "    d = posx + 1\n",
    "    while board[d][posy] == '-' or board[d][posy] == player_opp and d<14:\n",
    "        d = d + 1\n",
    "    d = d - posx - 1\n",
    "    if d > max(l,r,u) or move == None:\n",
    "        tmp = checkMove(posx, posy, board, 'd')\n",
    "        if tmp != None:\n",
    "            move = tmp\n",
    "    return [move]\n",
    "\n",
    "def nextMoveStr(player, posx, posy, board):\n",
    "    r = empty(player, posx, posy+1, board, 0)\n",
    "    move = checkMove(posx, posy, board, 'r')\n",
    "    l = empty(player, posx, posy-1, board, 0)\n",
    "    if l > r or move == None:\n",
    "        move = checkMove(posx, posy, board, 'l')\n",
    "    u = empty(player, posx-1, posy, board, 0)\n",
    "    if u > max(l,r) or move == None:\n",
    "        move = checkMove(posx, posy, board, 'u')\n",
    "    d = empty(player, posx+1, posy, board, 0)\n",
    "    if d > max(l,r,u) or move == None:\n",
    "        move = checkMove(posx, posy, board, 'd')\n",
    "    print(r,l,u,d, move)\n",
    "    return [move]"
   ]
  },
  {
   "cell_type": "code",
   "execution_count": null,
   "metadata": {},
   "outputs": [],
   "source": [
    "# Simple array sum\n",
    "def simpleArraySum(ar):\n",
    "    total = 0\n",
    "    for num in ar:\n",
    "        total = total + num\n",
    "    return total"
   ]
  },
  {
   "cell_type": "code",
   "execution_count": null,
   "metadata": {},
   "outputs": [],
   "source": [
    "# Diagonal difference\n",
    "def diagonalDifference(arr):\n",
    "    m = len(arr)\n",
    "    total1 = 0\n",
    "    total2 = 0\n",
    "    for i in range(m):\n",
    "        total1 = total1 + arr[i][i]\n",
    "        total2 = total2 + arr[i][m-1-i]\n",
    "    if total1 - total2 < 0:\n",
    "        return total2 - total1\n",
    "    else:\n",
    "        return total1 - total2     "
   ]
  },
  {
   "cell_type": "code",
   "execution_count": null,
   "metadata": {},
   "outputs": [],
   "source": [
    "# Birthday cake candles\n",
    "def birthdayCakeCandles(ar):\n",
    "    maxh = ar[0]\n",
    "    total = 0\n",
    "    for  num in ar:\n",
    "        if num > maxh:\n",
    "            total = 1\n",
    "            maxh = num\n",
    "        elif num == maxh:\n",
    "            total = total + 1\n",
    "    return total"
   ]
  },
  {
   "cell_type": "code",
   "execution_count": 1241,
   "metadata": {},
   "outputs": [
    {
     "name": "stdout",
     "output_type": "stream",
     "text": [
      "     #\n",
      "    ##\n",
      "   ###\n",
      "  ####\n",
      " #####\n",
      "######\n"
     ]
    }
   ],
   "source": [
    "# Staircase\n",
    "def staircase(n):\n",
    "    for i in range(0,n):\n",
    "        out = ''\n",
    "        for j in range(0,n):\n",
    "            if j < n-i-1:\n",
    "                out = out + \" \"\n",
    "            else:\n",
    "                out = out + \"#\"\n",
    "        print(out)\n",
    "        \n",
    "staircase(6)"
   ]
  },
  {
   "cell_type": "code",
   "execution_count": 1247,
   "metadata": {},
   "outputs": [],
   "source": [
    "# a very big sum\n",
    "def aVeryBigSum(ar):\n",
    "    total = 0\n",
    "    for num in ar: total= total + num\n",
    "    return total"
   ]
  },
  {
   "cell_type": "code",
   "execution_count": 1351,
   "metadata": {},
   "outputs": [
    {
     "name": "stdout",
     "output_type": "stream",
     "text": [
      "1\n",
      "-100 -1\n"
     ]
    },
    {
     "data": {
      "text/plain": [
       "(-1, -1)"
      ]
     },
     "execution_count": 1351,
     "metadata": {},
     "output_type": "execute_result"
    }
   ],
   "source": [
    "# The maximum subarray\n",
    "def maxSubarray1(arr): # It works but it is slow....\n",
    "    sa = arr[0]\n",
    "    ss = arr[0]\n",
    "    for i in range(1,len(arr)):\n",
    "        if max(arr[i], arr[i] + sa) > sa:\n",
    "            sa = max(arr[i], sa + arr[i])\n",
    "        dp = [False]*len(arr) \n",
    "        \n",
    "        ss = max(ss, arr[i-1])\n",
    "        dp[i-1] = arr[i-1]\n",
    "        for j in range(i, len(arr)):  \n",
    "            dp[j] = max(arr[j], dp[j-1] + arr[j])\n",
    "            ss = max(ss, dp[j])\n",
    "    return ss, sa\n",
    "\n",
    "def maxSubarray(arr):\n",
    "    sa = arr[0]\n",
    "    max1 = arr[0]\n",
    "    max2 = arr[0]\n",
    "    for i in range(1,len(arr)):\n",
    "        if max(arr[i], arr[i] + sa) > sa:\n",
    "            sa = max(arr[i], sa + arr[i])\n",
    "        max1 = max(arr[i], max1, max2) # Max of not sequenced previous max\n",
    "        max2 = max(max2 + arr[i], arr[i]) # Keep adding until it is better to start over\n",
    "    return max(max1,max2), sa\n",
    "\n",
    "def maxSubArray(nums): # Alternative solution\n",
    "     \"\"\"\n",
    "     :type nums: List[int]\n",
    "     :rtype: int\n",
    "     \"\"\"\n",
    "     for i in range(1, len(nums)):\n",
    "            if nums[i-1] > 0:\n",
    "                nums[i] += nums[i-1]\n",
    "     return max(nums)\n",
    " \n",
    "n = int(input())\n",
    "arr = list(map(int, input().rstrip().split()))\n",
    "maxSubarray(arr)"
   ]
  },
  {
   "cell_type": "code",
   "execution_count": 10,
   "metadata": {},
   "outputs": [
    {
     "data": {
      "text/plain": [
       "7"
      ]
     },
     "execution_count": 10,
     "metadata": {},
     "output_type": "execute_result"
    }
   ],
   "source": [
    "def bsearch(array, value, offset = 0):\n",
    "    if len(array) == 1:\n",
    "        if array[0] == value:\n",
    "            return offset\n",
    "        else:\n",
    "            return False\n",
    "    else:\n",
    "        mid = int(len(array)/2)\n",
    "        if array[mid] == value:\n",
    "            return mid + offset\n",
    "        elif array[mid] > value:\n",
    "            return bsearch(array[:mid], value, offset)\n",
    "        else:\n",
    "            return bsearch(array[mid:], value, mid + offset)\n",
    "        \n",
    "bsearch([3, 6, 8, 10, 40, 45, 100, 101, 111], 101)"
   ]
  },
  {
   "cell_type": "code",
   "execution_count": null,
   "metadata": {},
   "outputs": [],
   "source": []
  }
 ],
 "metadata": {
  "kernelspec": {
   "display_name": "Python 3",
   "language": "python",
   "name": "python3"
  },
  "language_info": {
   "codemirror_mode": {
    "name": "ipython",
    "version": 3
   },
   "file_extension": ".py",
   "mimetype": "text/x-python",
   "name": "python",
   "nbconvert_exporter": "python",
   "pygments_lexer": "ipython3",
   "version": "3.7.1"
  }
 },
 "nbformat": 4,
 "nbformat_minor": 2
}
