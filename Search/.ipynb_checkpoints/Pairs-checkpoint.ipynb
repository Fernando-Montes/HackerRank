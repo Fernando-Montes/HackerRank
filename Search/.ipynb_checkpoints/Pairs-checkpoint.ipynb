{
 "cells": [
  {
   "cell_type": "code",
   "execution_count": 8,
   "metadata": {},
   "outputs": [
    {
     "name": "stdout",
     "output_type": "stream",
     "text": [
      "7 2\n",
      "1 3 5 8 6 4 2\n",
      "5\n",
      "\n"
     ]
    }
   ],
   "source": [
    "# Pairs\n",
    "\n",
    "def pairs(k, arr):\n",
    "    result = 0\n",
    "    d = {arr[i] : i for i in range(len(arr))}\n",
    "    for i in range(len(arr)):\n",
    "        num = arr[i]\n",
    "        if num + k in d.keys():\n",
    "            result = result + 1\n",
    "        if num - k in d.keys():\n",
    "            result = result + 1\n",
    "    return int(result/2)\n",
    "\n",
    "nk = input().split()\n",
    "n = int(nk[0])\n",
    "k = int(nk[1])\n",
    "arr = list(map(int, input().rstrip().split()))\n",
    "result = pairs(k, arr)\n",
    "print(str(result) + '\\n')"
   ]
  },
  {
   "cell_type": "code",
   "execution_count": null,
   "metadata": {},
   "outputs": [],
   "source": []
  }
 ],
 "metadata": {
  "kernelspec": {
   "display_name": "Python 3",
   "language": "python",
   "name": "python3"
  },
  "language_info": {
   "codemirror_mode": {
    "name": "ipython",
    "version": 3
   },
   "file_extension": ".py",
   "mimetype": "text/x-python",
   "name": "python",
   "nbconvert_exporter": "python",
   "pygments_lexer": "ipython3",
   "version": "3.7.1"
  }
 },
 "nbformat": 4,
 "nbformat_minor": 2
}
