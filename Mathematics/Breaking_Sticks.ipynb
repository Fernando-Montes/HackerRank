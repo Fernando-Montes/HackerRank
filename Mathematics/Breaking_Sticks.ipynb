{
 "cells": [
  {
   "cell_type": "code",
   "execution_count": 53,
   "metadata": {},
   "outputs": [
    {
     "name": "stdout",
     "output_type": "stream",
     "text": [
      "6\n",
      "611028 729778 840000323820 840000307020 1 553605 796575 859093 999999991999 840000041580 840000704340 840000790020 840000440580 840000964740 999999991369 999999993611 865323 999999991993 840000269220 840000979020 840000968940 851842 988985 778270 999999991973 526400 999999999042 737557 634620 901112 840000438060 955665 786189 840000566580 652023 778270 840000974820 762092 587285 840000952140 657944 840000281820 798622 869011 840000828660 787043 811308 999999992297 852541 650616 963286 840000865620 689951 840000064260 840000536340 999999992261 941935 999999994613 634620 999999994379 966540 999999992737 840000255780 977002\n",
      "42803264051781\n"
     ]
    }
   ],
   "source": [
    "# Breaking Sticks\n",
    "# https://www.hackerrank.com/challenges/breaking-sticks/problem\n",
    "\n",
    "import math\n",
    "import os\n",
    "import random\n",
    "import re\n",
    "import sys\n",
    "\n",
    "noprimes = set(j for i in range(2, 1000) for j in range(i*2, 1000000, i))\n",
    "primes = [i for i in range(2, 1000000) if i not in noprimes]\n",
    "\n",
    "# Complete the longestSequence function below.\n",
    "def longestSequence(a):\n",
    "    total = 0\n",
    "    for num in a:\n",
    "        div = divisor(num)\n",
    "        tmp = 1\n",
    "        total = total + tmp\n",
    "        for i in range(len(div)-1, -1, -1):\n",
    "            tmp = tmp*div[i]\n",
    "            total = total + tmp\n",
    "    return int(total)\n",
    "\n",
    "def divisor(num):\n",
    "    div = []\n",
    "    i = 0\n",
    "    while num != 1 and i < len(primes):\n",
    "        if num%primes[i] == 0:\n",
    "            div.append(primes[i])\n",
    "            num = num/primes[i]\n",
    "        else:\n",
    "            i = i + 1\n",
    "    if num!= 1:\n",
    "        div.append(num)\n",
    "    return div\n",
    "\n",
    "n = int(input())\n",
    "a = list(map(int, input().rstrip().split()))\n",
    "result = longestSequence(a)\n",
    "print(result)"
   ]
  },
  {
   "cell_type": "code",
   "execution_count": null,
   "metadata": {},
   "outputs": [],
   "source": []
  }
 ],
 "metadata": {
  "kernelspec": {
   "display_name": "Python 3",
   "language": "python",
   "name": "python3"
  },
  "language_info": {
   "codemirror_mode": {
    "name": "ipython",
    "version": 3
   },
   "file_extension": ".py",
   "mimetype": "text/x-python",
   "name": "python",
   "nbconvert_exporter": "python",
   "pygments_lexer": "ipython3",
   "version": "3.7.1"
  }
 },
 "nbformat": 4,
 "nbformat_minor": 2
}
