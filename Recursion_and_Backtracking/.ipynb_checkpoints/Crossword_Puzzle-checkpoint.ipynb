{
 "cells": [
  {
   "cell_type": "code",
   "execution_count": 201,
   "metadata": {},
   "outputs": [
    {
     "name": "stdout",
     "output_type": "stream",
     "text": [
      "+L++++++++\n",
      "+O++++++++\n",
      "+N++++++++\n",
      "+DELHI++++\n",
      "+O+++C++++\n",
      "+N+++E++++\n",
      "+++++L++++\n",
      "++ANKARA++\n",
      "+++++N++++\n",
      "+++++D++++\n",
      "\n",
      "\n"
     ]
    },
    {
     "name": "stderr",
     "output_type": "stream",
     "text": [
      "/anaconda3/lib/python3.7/site-packages/ipykernel_launcher.py:31: FutureWarning: elementwise comparison failed; returning scalar instead, but in the future will perform elementwise comparison\n",
      "/anaconda3/lib/python3.7/site-packages/ipykernel_launcher.py:73: FutureWarning: elementwise comparison failed; returning scalar instead, but in the future will perform elementwise comparison\n",
      "/anaconda3/lib/python3.7/site-packages/ipykernel_launcher.py:60: FutureWarning: elementwise comparison failed; returning scalar instead, but in the future will perform elementwise comparison\n",
      "/anaconda3/lib/python3.7/site-packages/ipykernel_launcher.py:44: FutureWarning: elementwise comparison failed; returning scalar instead, but in the future will perform elementwise comparison\n"
     ]
    }
   ],
   "source": [
    "# Crossword puzzle\n",
    "# https://www.hackerrank.com/challenges/crossword-puzzle/problem?h_l=interview&playlist_slugs%5B%5D=interview-preparation-kit&playlist_slugs%5B%5D=recursion-backtracking\n",
    "\n",
    "import math\n",
    "import os\n",
    "import random\n",
    "import re\n",
    "import sys\n",
    "import copy\n",
    "import numpy as np\n",
    "\n",
    "# Complete the crosswordPuzzle function below.\n",
    "def crosswordPuzzle(crossword, d):\n",
    "    for r in range(10):\n",
    "        for c in range(10):\n",
    "            #print(r, c, crossword)\n",
    "            tmp1 = []\n",
    "            tmp2 = []\n",
    "            if crossword[r][c] == '-': \n",
    "                lr = 1 # length of potential word to the right\n",
    "                while c+lr < 10 and crossword[r][c+lr] != '+': # Check if possible word to the right\n",
    "                    lr = lr + 1\n",
    "                # Checking if there are words these long\n",
    "                tmp1 = [k for k in d if d[k] <= lr]\n",
    "                for i in range(len(tmp1)):\n",
    "                    crosswordCopy = copy.deepcopy(crossword)\n",
    "                    dCopy = copy.deepcopy(d)\n",
    "                    crosswordCopy[r, c:(c+len(tmp1[i]))] = [ch for ch in tmp1[i]]\n",
    "                    dCopy.pop(tmp1[i])\n",
    "                    res = crosswordPuzzle(crosswordCopy, dCopy)\n",
    "                    if res != False:\n",
    "                        return res\n",
    "                ld = 1 # length of potential word going down\n",
    "                while r+ld < 10 and crossword[r+ld][c] == '-': # Check if possible word going down\n",
    "                    ld = ld + 1\n",
    "                # Checking if there are words these long\n",
    "                tmp2 = [k for k in d if d[k] <= ld]\n",
    "                for i in range(len(tmp2)):\n",
    "                    crosswordCopy = copy.deepcopy(crossword)\n",
    "                    dCopy = copy.deepcopy(d)\n",
    "                    crosswordCopy[r:(r+len(tmp2[i])), c] = [ch for ch in tmp2[i]]\n",
    "                    dCopy.pop(tmp2[i])\n",
    "                    res = crosswordPuzzle(crosswordCopy, dCopy)\n",
    "                    if res != False:\n",
    "                        return res      \n",
    "            if crossword[r][c] == '-' and len(tmp1) == 0 and len(tmp2) == 0:\n",
    "                return False\n",
    "            if crossword[r][c] != '-' and crossword[r][c] != '+':   # If it is a letter\n",
    "                lr = 1 # length of potential word to the right\n",
    "                while c+lr < 10 and crossword[r][c+lr] == '-': # Check if possible word to the right\n",
    "                    lr = lr + 1\n",
    "                if lr > 1:\n",
    "                    tmp1 = [k for k in d if d[k] <= lr and k[0] == crossword[r][c] ]\n",
    "                    for i in range(len(tmp1)):\n",
    "                        crosswordCopy = copy.deepcopy(crossword)\n",
    "                        dCopy = copy.deepcopy(d)\n",
    "                        crosswordCopy[r, c:(c+len(tmp1[i]))] = [ch for ch in tmp1[i]]\n",
    "                        dCopy.pop(tmp1[i])\n",
    "                        res = crosswordPuzzle(crosswordCopy, dCopy)\n",
    "                        if res != False:\n",
    "                            return res\n",
    "                ld = 1 # length of potential word to the right\n",
    "                while r+ld < 10 and crossword[r+ld][c] == '-': # Check if possible word going down\n",
    "                    ld = ld + 1\n",
    "                if ld > 1:\n",
    "                    tmp2 = [k for k in d if d[k] <= ld and k[0] == crossword[r][c] ]\n",
    "                    for i in range(len(tmp2)):\n",
    "                        crosswordCopy = copy.deepcopy(crossword)\n",
    "                        dCopy = copy.deepcopy(d)\n",
    "                        crosswordCopy[r:(r+len(tmp2[i])), c] = [ch for ch in tmp2[i]]\n",
    "                        dCopy.pop(tmp2[i])\n",
    "                        res = crosswordPuzzle(crosswordCopy, dCopy)\n",
    "                        if res != False:\n",
    "                            return res  \n",
    "    return crossword   \n",
    "\n",
    "crossword = []\n",
    "for _ in range(10):\n",
    "    crossword_item = [c for c in input()]\n",
    "    crossword.append(crossword_item)\n",
    "crossword = np.asarray(crossword)\n",
    "\n",
    "words = input()\n",
    "d = {}\n",
    "wordsSplit = words.split(';')\n",
    "for w in wordsSplit:\n",
    "    d[w] = len(w)\n",
    "\n",
    "result1 = crosswordPuzzle(crossword, d)\n",
    "result2 = []\n",
    "for i in range(10):\n",
    "        str = \"\"\n",
    "        result2.append(str.join(result1[i,:]))\n",
    "print('\\n'.join(result2))\n",
    "print('\\n')\n"
   ]
  },
  {
   "cell_type": "code",
   "execution_count": 188,
   "metadata": {},
   "outputs": [
    {
     "name": "stdout",
     "output_type": "stream",
     "text": [
      "False\n"
     ]
    }
   ],
   "source": [
    "result = crosswordPuzzle(crossword, d)\n",
    "print(result)"
   ]
  },
  {
   "cell_type": "code",
   "execution_count": 200,
   "metadata": {},
   "outputs": [
    {
     "data": {
      "text/plain": [
       "'+L++++++++'"
      ]
     },
     "execution_count": 200,
     "metadata": {},
     "output_type": "execute_result"
    }
   ],
   "source": [
    "str = \"\"\n",
    "str.join(result1[0,:])"
   ]
  },
  {
   "cell_type": "code",
   "execution_count": null,
   "metadata": {},
   "outputs": [],
   "source": []
  }
 ],
 "metadata": {
  "kernelspec": {
   "display_name": "Python 3",
   "language": "python",
   "name": "python3"
  },
  "language_info": {
   "codemirror_mode": {
    "name": "ipython",
    "version": 3
   },
   "file_extension": ".py",
   "mimetype": "text/x-python",
   "name": "python",
   "nbconvert_exporter": "python",
   "pygments_lexer": "ipython3",
   "version": "3.7.1"
  }
 },
 "nbformat": 4,
 "nbformat_minor": 2
}
