{
 "cells": [
  {
   "cell_type": "code",
   "execution_count": 104,
   "metadata": {},
   "outputs": [
    {
     "name": "stdout",
     "output_type": "stream",
     "text": [
      "1\n",
      "5\n",
      "13\n",
      "\n"
     ]
    }
   ],
   "source": [
    "# Davis' Staircase\n",
    "def stepPerms1(n):  # Works but it is slow\n",
    "    if n == 1:\n",
    "        return 1\n",
    "    elif n == 2:\n",
    "        return 2\n",
    "    elif n == 3:\n",
    "        return 4\n",
    "    else:\n",
    "        return (stepPerms(n-1) + stepPerms(n-2) + stepPerms(n-3))%10000000007\n",
    "    \n",
    "def stepPerms(n):  \n",
    "    dp = [1, 2, 4]\n",
    "    if  n-1 > 3:\n",
    "        for i in range(3,n):\n",
    "            dp.append(dp[i-1] + dp[i-2] + dp[i-3])\n",
    "    return dp[n-1]\n",
    "    \n",
    "s = int(input())\n",
    "for s_itr in range(s):\n",
    "    n = int(input())\n",
    "    res = stepPerms(n)\n",
    "print(str(res) + '\\n')"
   ]
  }
 ],
 "metadata": {
  "kernelspec": {
   "display_name": "Python 3",
   "language": "python",
   "name": "python3"
  },
  "language_info": {
   "codemirror_mode": {
    "name": "ipython",
    "version": 3
   },
   "file_extension": ".py",
   "mimetype": "text/x-python",
   "name": "python",
   "nbconvert_exporter": "python",
   "pygments_lexer": "ipython3",
   "version": "3.7.1"
  }
 },
 "nbformat": 4,
 "nbformat_minor": 2
}
