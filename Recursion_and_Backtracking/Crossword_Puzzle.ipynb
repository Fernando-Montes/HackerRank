{
 "cells": [
  {
   "cell_type": "code",
   "execution_count": 235,
   "metadata": {},
   "outputs": [
    {
     "name": "stdout",
     "output_type": "stream",
     "text": [
      "+C++++++++\n",
      "+A++T+++++\n",
      "+NIGERIA++\n",
      "+A++L+++++\n",
      "+D++A+++++\n",
      "+A++V+++++\n",
      "++++I+++++\n",
      "++++V+++++\n",
      "++++++++++\n",
      "CALIFORNIA\n",
      "\n",
      "\n"
     ]
    }
   ],
   "source": [
    "# Crossword puzzle\n",
    "# https://www.hackerrank.com/challenges/crossword-puzzle/problem?h_l=interview&playlist_slugs%5B%5D=interview-preparation-kit&playlist_slugs%5B%5D=recursion-backtracking\n",
    "\n",
    "import math\n",
    "import os\n",
    "import random\n",
    "import re\n",
    "import sys\n",
    "import copy\n",
    "\n",
    "# Complete the crosswordPuzzle function below.\n",
    "def crosswordPuzzle(crossword, d):\n",
    "    for r in range(10):\n",
    "        for c in range(10):\n",
    "            #print(crossword, r, c, d)\n",
    "            tmp1 = []\n",
    "            tmp2 = []\n",
    "            if crossword[r][c] == '-': \n",
    "                lr = 1 # length of potential word to the right\n",
    "                while c+lr < 10 and crossword[r][c+lr] != '+': # Check if possible word to the right\n",
    "                    lr = lr + 1\n",
    "                # Checking if there are words these long\n",
    "                tmp1 = [k for k in d if d[k] <= lr]\n",
    "                for i in range(len(tmp1)):\n",
    "                    crosswordCopy = copy.deepcopy(crossword)\n",
    "                    dCopy = copy.deepcopy(d)\n",
    "                    tmp = [ch for ch in tmp1[i]]\n",
    "                    for j in range(len(tmp)): crosswordCopy[r][c+j] = tmp[j]\n",
    "                    dCopy.pop(tmp1[i])\n",
    "                    res = crosswordPuzzle(crosswordCopy, dCopy)\n",
    "                    if res != False:\n",
    "                        return res\n",
    "                ld = 1 # length of potential word going down\n",
    "                while r+ld < 10 and crossword[r+ld][c] != '+': # Check if possible word going down\n",
    "                    ld = ld + 1\n",
    "                # Checking if there are words these long\n",
    "                tmp2 = [k for k in d if d[k] <= ld]\n",
    "                for i in range(len(tmp2)):\n",
    "                    crosswordCopy = copy.deepcopy(crossword)\n",
    "                    dCopy = copy.deepcopy(d)\n",
    "                    tmp = [ch for ch in tmp2[i]]\n",
    "                    for j in range(len(tmp)): crosswordCopy[r+j][c] = tmp[j]\n",
    "                    dCopy.pop(tmp2[i])\n",
    "                    res = crosswordPuzzle(crosswordCopy, dCopy)\n",
    "                    if res != False:\n",
    "                        return res      \n",
    "            if crossword[r][c] == '-' and len(tmp1) == 0 and len(tmp2) == 0:\n",
    "                return False\n",
    "            if crossword[r][c] != '-' and crossword[r][c] != '+':   # If it is a letter\n",
    "                lr = 1 # length of potential word to the right\n",
    "                while c+lr < 10 and crossword[r][c+lr] != '+': # Check if possible word to the right\n",
    "                    lr = lr + 1\n",
    "                if lr > 1:\n",
    "                    tmp1 = [k for k in d if d[k] <= lr and k[0] == crossword[r][c] ]\n",
    "                    for i in range(len(tmp1)):\n",
    "                        crosswordCopy = copy.deepcopy(crossword)\n",
    "                        dCopy = copy.deepcopy(d)\n",
    "                        tmp = [ch for ch in tmp1[i]]\n",
    "                        for j in range(len(tmp)): crosswordCopy[r][c+j] = tmp[j]\n",
    "                        dCopy.pop(tmp1[i])\n",
    "                        res = crosswordPuzzle(crosswordCopy, dCopy)\n",
    "                        if res != False:\n",
    "                            return res\n",
    "                ld = 1 # length of potential word going down\n",
    "                while r+ld < 10 and crossword[r+ld][c] != '+': # Check if possible word going down\n",
    "                    ld = ld + 1\n",
    "                if ld > 1:\n",
    "                    tmp2 = [k for k in d if d[k] <= ld and k[0] == crossword[r][c] ]\n",
    "                    for i in range(len(tmp2)):\n",
    "                        crosswordCopy = copy.deepcopy(crossword)\n",
    "                        dCopy = copy.deepcopy(d)\n",
    "                        tmp = [ch for ch in tmp2[i]]\n",
    "                        for j in range(len(tmp)): crosswordCopy[r+j][c] = tmp[j]\n",
    "                        dCopy.pop(tmp2[i])\n",
    "                        res = crosswordPuzzle(crosswordCopy, dCopy)\n",
    "                        if res != False:\n",
    "                            return res  \n",
    "    return crossword   \n",
    "\n",
    "crossword = []\n",
    "for _ in range(10):\n",
    "    crossword_item = [c for c in input()]\n",
    "    crossword.append(crossword_item)\n",
    "words = input()\n",
    "\n",
    "d = {}\n",
    "wordsSplit = words.split(';')\n",
    "for w in wordsSplit:\n",
    "    d[w] = len(w)\n",
    "\n",
    "result1 = crosswordPuzzle(crossword, d)\n",
    "result2 = []\n",
    "for i in range(10):\n",
    "        str = \"\"\n",
    "        result2.append(str.join(result1[i]))\n",
    "print('\\n'.join(result2))\n",
    "print('\\n')"
   ]
  },
  {
   "cell_type": "code",
   "execution_count": 234,
   "metadata": {},
   "outputs": [
    {
     "data": {
      "text/plain": [
       "[['+', 'C', '+', '+', '+', '+', '+', '+', '+', '+'],\n",
       " ['+', 'A', '+', '+', 'T', '+', '+', '+', '+', '+'],\n",
       " ['+', 'N', 'I', 'G', 'E', 'R', 'I', 'A', '+', '+'],\n",
       " ['+', 'A', '+', '+', 'L', '+', '+', '+', '+', '+'],\n",
       " ['+', 'D', '+', '+', 'A', '+', '+', '+', '+', '+'],\n",
       " ['+', 'A', '+', '+', 'V', '+', '+', '+', '+', '+'],\n",
       " ['+', '+', '+', '+', 'I', '+', '+', '+', '+', '+'],\n",
       " ['+', '+', '+', '+', 'V', '+', '+', '+', '+', '+'],\n",
       " ['+', '+', '+', '+', '+', '+', '+', '+', '+', '+'],\n",
       " ['C', 'A', 'L', 'I', 'F', 'O', 'R', 'N', 'I', 'A']]"
      ]
     },
     "execution_count": 234,
     "metadata": {},
     "output_type": "execute_result"
    }
   ],
   "source": [
    "result1"
   ]
  },
  {
   "cell_type": "code",
   "execution_count": null,
   "metadata": {},
   "outputs": [],
   "source": []
  }
 ],
 "metadata": {
  "kernelspec": {
   "display_name": "Python 3",
   "language": "python",
   "name": "python3"
  },
  "language_info": {
   "codemirror_mode": {
    "name": "ipython",
    "version": 3
   },
   "file_extension": ".py",
   "mimetype": "text/x-python",
   "name": "python",
   "nbconvert_exporter": "python",
   "pygments_lexer": "ipython3",
   "version": "3.7.1"
  }
 },
 "nbformat": 4,
 "nbformat_minor": 2
}
