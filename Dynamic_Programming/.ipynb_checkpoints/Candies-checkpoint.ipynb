{
 "cells": [
  {
   "cell_type": "code",
   "execution_count": 92,
   "metadata": {},
   "outputs": [
    {
     "name": "stdout",
     "output_type": "stream",
     "text": [
      "5\n",
      "3 5 1 4 2\n",
      "[1, 2, 1, 2, 1]\n",
      "\n"
     ]
    }
   ],
   "source": [
    "# Does not pass all test cases but have passed all the tests I can think of .....\n",
    "\n",
    "# Candies\n",
    "import sys\n",
    "sys.setrecursionlimit(100000)\n",
    "\n",
    "def numberCandies(arr, i, desc = []):\n",
    "    if i == 0 and arr[0] <= arr[1]:\n",
    "        desc.append(1)\n",
    "        return desc\n",
    "    elif i == len(arr)-1:\n",
    "        desc.append(1)\n",
    "        return desc\n",
    "    elif  arr[i-1] >= arr[i] and arr[i] <= arr[i+1]:\n",
    "        desc.append(1)\n",
    "        return desc\n",
    "    else:\n",
    "        desc = numberCandies(arr, i+1, desc)\n",
    "        desc.insert(0, 1 + desc[0])\n",
    "        return desc\n",
    "\n",
    "def candies(n, arr):\n",
    "    res = []\n",
    "    i = 0\n",
    "    desc = numberCandies(arr, i)\n",
    "    res.append(desc.pop(0))\n",
    "    i = 1\n",
    "    while i < n-1:\n",
    "        if arr[i-1] < arr[i] and arr[i] <= arr[i+1]:\n",
    "            res.append(res[i-1] + 1)\n",
    "        elif arr[i-1] == arr[i] and arr[i] == arr[i+1]:\n",
    "            res.append(1)\n",
    "        else:\n",
    "            if len(desc) == 0:\n",
    "                desc = numberCandies(arr, i)\n",
    "            if arr[i-1] <= arr[i] and arr[i] > arr[i+1]:\n",
    "                res.append( max( res[i-1]+1, desc.pop(0) ) )\n",
    "            else:\n",
    "                res.append( desc.pop(0) )\n",
    "        i = i + 1\n",
    "    if arr[i-1] < arr[i]:\n",
    "        res.append(res[i-1]+1)\n",
    "    else:\n",
    "        res.append(1)\n",
    "    return res\n",
    "        \n",
    "n = int(input())\n",
    "#arr = []\n",
    "#for _ in range(n):\n",
    "#    arr_item = int(input())\n",
    "#    arr.append(arr_item)\n",
    "arr = list(map(int, input().split()))\n",
    "result = candies(n, arr)\n",
    "print(str(result) + '\\n')"
   ]
  },
  {
   "cell_type": "code",
   "execution_count": 75,
   "metadata": {},
   "outputs": [
    {
     "ename": "SyntaxError",
     "evalue": "invalid syntax (<ipython-input-75-26f7dd7600b7>, line 1)",
     "output_type": "error",
     "traceback": [
      "\u001b[0;36m  File \u001b[0;32m\"<ipython-input-75-26f7dd7600b7>\"\u001b[0;36m, line \u001b[0;32m1\u001b[0m\n\u001b[0;31m    1 2 3 4\u001b[0m\n\u001b[0m      ^\u001b[0m\n\u001b[0;31mSyntaxError\u001b[0m\u001b[0;31m:\u001b[0m invalid syntax\n"
     ]
    }
   ],
   "source": [
    "1 2 3 4\n",
    "4 3 2 1\n",
    "1 5 6 3\n",
    "1 1 1 1"
   ]
  }
 ],
 "metadata": {
  "kernelspec": {
   "display_name": "Python 3",
   "language": "python",
   "name": "python3"
  },
  "language_info": {
   "codemirror_mode": {
    "name": "ipython",
    "version": 3
   },
   "file_extension": ".py",
   "mimetype": "text/x-python",
   "name": "python",
   "nbconvert_exporter": "python",
   "pygments_lexer": "ipython3",
   "version": "3.7.1"
  }
 },
 "nbformat": 4,
 "nbformat_minor": 2
}
