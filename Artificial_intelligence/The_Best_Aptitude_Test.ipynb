{
 "cells": [
  {
   "cell_type": "code",
   "execution_count": 32,
   "metadata": {},
   "outputs": [
    {
     "name": "stdout",
     "output_type": "stream",
     "text": [
      "-1\n",
      "1 2\n",
      "1 2\n",
      "1 2\n",
      "1 2\n",
      "2\n"
     ]
    }
   ],
   "source": [
    "# The Best Aptitude Test\n",
    "# https://www.hackerrank.com/challenges/the-best-aptitude-test/problem\n",
    "\n",
    "from scipy import stats\n",
    "\n",
    "def readInput():\n",
    "    number_students = int(input())\n",
    "    gpas = list(map(float, input().split()))\n",
    "    testGrades = []\n",
    "    for j in range(5):  # Loop over 5 tests\n",
    "        tmp = list(map(float, input().split()))\n",
    "        testGrades.append(tmp)\n",
    "    return gpas, testGrades\n",
    "\n",
    "def findBestTest(gpas, testGrades):\n",
    "    tmp = stats.pearsonr(testGrades[0], gpas)[0]\n",
    "    if tmp <= 1:\n",
    "        maxP = tmp\n",
    "    else:\n",
    "        maxP = -1\n",
    "    print(maxP)\n",
    "    bestTest = 1\n",
    "    for j in range(1, 5):  # Loop over 5 tests\n",
    "        tmp = min(1, stats.pearsonr(testGrades[j], gpas)[0])\n",
    "        if tmp <= 1:\n",
    "            None\n",
    "        else:\n",
    "            tmp = -1\n",
    "        if tmp > maxP:\n",
    "            bestTest = j+1\n",
    "            maxP = tmp\n",
    "        print(maxP, bestTest)\n",
    "    return bestTest\n",
    "    \n",
    "t = int(input())\n",
    "for i in range(t):  # Loop over number of testcases\n",
    "    gpas, testGrades = readInput()\n",
    "    bestTest = findBestTest(gpas, testGrades)\n",
    "    print(bestTest)"
   ]
  },
  {
   "cell_type": "code",
   "execution_count": null,
   "metadata": {},
   "outputs": [],
   "source": []
  }
 ],
 "metadata": {
  "kernelspec": {
   "display_name": "Python 3",
   "language": "python",
   "name": "python3"
  },
  "language_info": {
   "codemirror_mode": {
    "name": "ipython",
    "version": 3
   },
   "file_extension": ".py",
   "mimetype": "text/x-python",
   "name": "python",
   "nbconvert_exporter": "python",
   "pygments_lexer": "ipython3",
   "version": "3.7.1"
  }
 },
 "nbformat": 4,
 "nbformat_minor": 2
}
