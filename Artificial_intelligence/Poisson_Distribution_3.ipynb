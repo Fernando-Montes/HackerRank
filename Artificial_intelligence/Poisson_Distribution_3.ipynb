{
 "cells": [
  {
   "cell_type": "code",
   "execution_count": 5,
   "metadata": {},
   "outputs": [
    {
     "name": "stdout",
     "output_type": "stream",
     "text": [
      "226.176\n",
      "286.100\n"
     ]
    }
   ],
   "source": [
    "# Poisson distribution 3\n",
    "# https://www.hackerrank.com/challenges/poisson-distribution-3/problem\n",
    "import numpy as np\n",
    "\n",
    "def poiss(lambd, x):\n",
    "    return( np.exp(-lambd)*np.power(lambd,x)/np.math.factorial(x) )\n",
    "def costA(x):\n",
    "    return ( 160 + 40*x*x )\n",
    "def costB(x):\n",
    "    return ( 128 + 40*x*x )\n",
    "\n",
    "totalCostA = 0\n",
    "totalCostB = 0\n",
    "for i in range(0,30):\n",
    "    totalCostA = totalCostA + costA(i)*poiss(0.88, i) \n",
    "    totalCostB = totalCostB + costB(i)*poiss(1.55, i) \n",
    "print(\"{:.3f}\".format(totalCostA))\n",
    "print(\"{:.3f}\".format(totalCostB))"
   ]
  }
 ],
 "metadata": {
  "kernelspec": {
   "display_name": "Python 3",
   "language": "python",
   "name": "python3"
  },
  "language_info": {
   "codemirror_mode": {
    "name": "ipython",
    "version": 3
   },
   "file_extension": ".py",
   "mimetype": "text/x-python",
   "name": "python",
   "nbconvert_exporter": "python",
   "pygments_lexer": "ipython3",
   "version": "3.7.1"
  }
 },
 "nbformat": 4,
 "nbformat_minor": 2
}
