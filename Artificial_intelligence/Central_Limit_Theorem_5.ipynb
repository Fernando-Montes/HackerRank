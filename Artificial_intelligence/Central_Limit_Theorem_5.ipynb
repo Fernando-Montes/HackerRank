{
 "cells": [
  {
   "cell_type": "code",
   "execution_count": 6,
   "metadata": {},
   "outputs": [
    {
     "name": "stdout",
     "output_type": "stream",
     "text": [
      "41000 33166.247903553995\n",
      "0.2633\n"
     ]
    }
   ],
   "source": [
    "# Central Limit Theorem 5\n",
    "# https://www.hackerrank.com/challenges/the-central-limit-theorem-5/problem\n",
    "\n",
    "import numpy as np\n",
    "from scipy.stats import norm\n",
    "mu = 74000 - 11*50000 + 11*47000\n",
    "sigma = 10000\n",
    "sampleSigma = sigma*np.sqrt(11)\n",
    "\n",
    "print(mu, sampleSigma)\n",
    "print(\"{:.4f}\".format(norm.cdf((20000-mu)/sampleSigma)))"
   ]
  },
  {
   "cell_type": "code",
   "execution_count": null,
   "metadata": {},
   "outputs": [],
   "source": []
  }
 ],
 "metadata": {
  "kernelspec": {
   "display_name": "Python 3",
   "language": "python",
   "name": "python3"
  },
  "language_info": {
   "codemirror_mode": {
    "name": "ipython",
    "version": 3
   },
   "file_extension": ".py",
   "mimetype": "text/x-python",
   "name": "python",
   "nbconvert_exporter": "python",
   "pygments_lexer": "ipython3",
   "version": "3.7.1"
  }
 },
 "nbformat": 4,
 "nbformat_minor": 2
}
