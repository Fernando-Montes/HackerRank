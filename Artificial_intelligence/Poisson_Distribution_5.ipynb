{
 "cells": [
  {
   "cell_type": "code",
   "execution_count": 1,
   "metadata": {},
   "outputs": [
    {
     "name": "stdout",
     "output_type": "stream",
     "text": [
      "0.217\n",
      "0.879\n",
      "0.013\n",
      "1.000\n"
     ]
    }
   ],
   "source": [
    "# Poisson distribution 5\n",
    "# https://www.hackerrank.com/challenges/poisson-distribution-5/problem\n",
    "import numpy as np\n",
    "\n",
    "def poiss(lambd, x):\n",
    "    return( np.exp(-lambd)*np.power(lambd,x)/np.math.factorial(x) )\n",
    "\n",
    "lambd = 1.2\n",
    "print(\"{:.3f}\".format(poiss(lambd, 2)))\n",
    "print(\"{:.3f}\".format(poiss(lambd, 0) + poiss(lambd, 1) + poiss(lambd, 2)))\n",
    "print(\"{:.3f}\".format(poiss(10*lambd, 5)))\n",
    "print(\"{:.3f}\".format(1-poiss(40*lambd, 0)-poiss(40*lambd, 1)-poiss(40*lambd, 2)))"
   ]
  },
  {
   "cell_type": "code",
   "execution_count": null,
   "metadata": {},
   "outputs": [],
   "source": []
  }
 ],
 "metadata": {
  "kernelspec": {
   "display_name": "Python 3",
   "language": "python",
   "name": "python3"
  },
  "language_info": {
   "codemirror_mode": {
    "name": "ipython",
    "version": 3
   },
   "file_extension": ".py",
   "mimetype": "text/x-python",
   "name": "python",
   "nbconvert_exporter": "python",
   "pygments_lexer": "ipython3",
   "version": "3.7.1"
  }
 },
 "nbformat": 4,
 "nbformat_minor": 2
}
