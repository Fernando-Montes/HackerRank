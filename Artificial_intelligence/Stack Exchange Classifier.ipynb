{
 "cells": [
  {
   "cell_type": "code",
   "execution_count": 130,
   "metadata": {},
   "outputs": [
    {
     "name": "stdout",
     "output_type": "stream",
     "text": [
      "0.9999505391235533\n",
      "1\n",
      "{\"question\":\"Frequency Inverter LS IS5\",\"excerpt\":\"I have been working with a IS5 frequency inverter. I'm trying to use the Sensorless Torque control, for a Wind Turbine Emulator, via an external reference. The issue is, when I turn the inverter on ...\\r\\n        \"}\n",
      "electronics\n"
     ]
    }
   ],
   "source": [
    "import json\n",
    "from sklearn.feature_extraction.text import CountVectorizer\n",
    "from sklearn.feature_extraction.text import TfidfVectorizer\n",
    "from sklearn.feature_extraction.text import TfidfTransformer\n",
    "from sklearn.preprocessing import StandardScaler\n",
    "from sklearn.pipeline import make_pipeline\n",
    "from sklearn.linear_model import LogisticRegression\n",
    "from sklearn.naive_bayes import MultinomialNB\n",
    "from sklearn.naive_bayes import GaussianNB\n",
    "from sklearn.linear_model import SGDClassifier\n",
    "from sklearn.ensemble import VotingClassifier\n",
    "import numpy as np\n",
    "import warnings\n",
    "warnings.filterwarnings(\"ignore\")\n",
    "\n",
    "def readTrainData():\n",
    "    data = []\n",
    "    for line in open(\"data/training.json\", 'r'):\n",
    "        data.append(json.loads(line))\n",
    "    x_train = []\n",
    "    y_train = []\n",
    "    for i in range(1, data[0]):\n",
    "        #x_train.append( [x.lower() for x in data[i]['question'].replace('?','').split() + data[i]['excerpt'].replace('?','').split()] ) \n",
    "        x_train.append( data[i]['question'] + data[i]['excerpt'] )\n",
    "        y_train.append( data[i]['topic'] )\n",
    "    return x_train, y_train\n",
    "\n",
    "def readTestData():\n",
    "    num_tests  = int(input())\n",
    "    x_test = []\n",
    "    for i in range(num_tests):\n",
    "        data = json.loads(input())\n",
    "        x_test.append( data['question'] + data['excerpt'] )\n",
    "    return num_tests, x_test  \n",
    "        \n",
    "def training(num_vocab, x_train, y_train):\n",
    "    #vectorModel = TfidfVectorizer(max_features = num_vocab, ngram_range=(1,5))\n",
    "    vectorModel1 = CountVectorizer(max_features = num_vocab).fit(x_train)\n",
    "    x = vectorModel1.transform(x_train)\n",
    "    vectorModel2 = TfidfTransformer().fit(x)\n",
    "    x = vectorModel2.transform(x).toarray()\n",
    "    \n",
    "    log = make_pipeline( StandardScaler(with_mean=False), LogisticRegression(solver=\"newton-cg\", random_state=42, multi_class='multinomial', penalty = 'l2', class_weight='balanced') )\n",
    "    log.fit(x, y_train)\n",
    "    nbM = make_pipeline( MultinomialNB(alpha=1.0, class_prior=None, fit_prior=True) )\n",
    "    nbM.fit(x,y_train)\n",
    "    nbG = make_pipeline( GaussianNB(var_smoothing=1e-06) )\n",
    "    nbG.fit(x,y_train)\n",
    "    #eclf = VotingClassifier(estimators=[('log', log), ('nbM', nbM), ('nbG', nbG)], voting='hard')\n",
    "    #eclf.fit(x,y_train)\n",
    "    #return vectorModel1, vectorModel2, eclf, np.mean(log.predict(x) == y_train), np.mean(nbM.predict(x) == y_train), \\\n",
    "    #                    np.mean(nbG.predict(x) == y_train),  np.mean(eclf.predict(x) == y_train)\n",
    "    return vectorModel1, vectorModel2, log, np.mean(log.predict(x) == y_train)\n",
    "                    \n",
    "num_vocab = 1500\n",
    "x_train, y_train = readTrainData()\n",
    "vectorModel1, vectorModel2, eclf, mean_log = training(num_vocab, x_train, y_train)\n",
    "print(mean_log)\n",
    "#vectorModel1, vectorModel2, eclf, mean_log, mean_nbN, mean_nbG, mean_eclf = training(num_vocab, x_train, y_train)\n",
    "#print(mean_log, mean_nbN, mean_nbG, mean_eclf)\n",
    "\n",
    "num_tests, x_test = readTestData()\n",
    "x = vectorModel1.transform(x_test)\n",
    "x = vectorModel2.transform(x).toarray()\n",
    "\n",
    "res = eclf.predict(x)\n",
    "for type in res:\n",
    "    print(type)"
   ]
  },
  {
   "cell_type": "code",
   "execution_count": null,
   "metadata": {},
   "outputs": [],
   "source": []
  }
 ],
 "metadata": {
  "kernelspec": {
   "display_name": "Python 3",
   "language": "python",
   "name": "python3"
  },
  "language_info": {
   "codemirror_mode": {
    "name": "ipython",
    "version": 3
   },
   "file_extension": ".py",
   "mimetype": "text/x-python",
   "name": "python",
   "nbconvert_exporter": "python",
   "pygments_lexer": "ipython3",
   "version": "3.7.1"
  }
 },
 "nbformat": 4,
 "nbformat_minor": 2
}
