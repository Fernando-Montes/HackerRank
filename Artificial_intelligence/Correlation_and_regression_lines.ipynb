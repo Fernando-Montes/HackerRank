{
 "cells": [
  {
   "cell_type": "markdown",
   "metadata": {},
   "source": [
    "Correlation and Regression Lines\n",
    "\n",
    "https://www.hackerrank.com/challenges/correlation-and-regression-lines-5/problem\n",
    "http://www.randomservices.org/random/point/Estimators.html\n",
    "\n",
    "**y dependant on x:**\n",
    "- 20x - 9y - 107 = 0\n",
    "- y = 20/9x - 107/9\n",
    "- b1 = cov(x,y)/sigma_x^2\n",
    "- cov(x,y) = 20/9*3^2 = 20\n",
    "\n",
    "**x dependant on y:**\n",
    "- 4x - 5y + 33 = 0\n",
    "- x = 5/4y - 33/4\n",
    "- b2 = cov(x,y)/sigma_y^2\n",
    "- sigma_y = sqrt( 20/(5/4) ) = 4"
   ]
  },
  {
   "cell_type": "code",
   "execution_count": 4,
   "metadata": {},
   "outputs": [
    {
     "data": {
      "text/plain": [
       "16.0"
      ]
     },
     "execution_count": 4,
     "metadata": {},
     "output_type": "execute_result"
    }
   ],
   "source": [
    "80/5"
   ]
  }
 ],
 "metadata": {
  "kernelspec": {
   "display_name": "Python 3",
   "language": "python",
   "name": "python3"
  },
  "language_info": {
   "codemirror_mode": {
    "name": "ipython",
    "version": 3
   },
   "file_extension": ".py",
   "mimetype": "text/x-python",
   "name": "python",
   "nbconvert_exporter": "python",
   "pygments_lexer": "ipython3",
   "version": "3.7.1"
  }
 },
 "nbformat": 4,
 "nbformat_minor": 2
}
