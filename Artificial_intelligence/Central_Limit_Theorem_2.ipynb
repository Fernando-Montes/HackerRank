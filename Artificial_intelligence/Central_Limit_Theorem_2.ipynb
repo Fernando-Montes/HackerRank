{
 "cells": [
  {
   "cell_type": "code",
   "execution_count": 1,
   "metadata": {},
   "outputs": [],
   "source": [
    "# Central Limit Theorem 2\n",
    "# https://www.hackerrank.com/challenges/the-central-limit-theorem-2/problem\n",
    "\n",
    "import numpy as np\n",
    "from scipy.stats import norm\n",
    "mu = 2.4\n",
    "sigma = 2\n",
    "\n",
    "cap = 250\n",
    "mean = 100*mu\n",
    "totalSigma = np.sqrt(100)*sigma"
   ]
  },
  {
   "cell_type": "code",
   "execution_count": 3,
   "metadata": {},
   "outputs": [
    {
     "name": "stdout",
     "output_type": "stream",
     "text": [
      "240.0 20.0 0.5\n"
     ]
    }
   ],
   "source": [
    "print(mean, totalSigma, (cap-mean)/totalSigma)"
   ]
  },
  {
   "cell_type": "code",
   "execution_count": 4,
   "metadata": {},
   "outputs": [
    {
     "data": {
      "text/plain": [
       "0.6914624612740131"
      ]
     },
     "execution_count": 4,
     "metadata": {},
     "output_type": "execute_result"
    }
   ],
   "source": [
    "norm.cdf((cap-mean)/totalSigma)"
   ]
  },
  {
   "cell_type": "code",
   "execution_count": 5,
   "metadata": {},
   "outputs": [
    {
     "name": "stdout",
     "output_type": "stream",
     "text": [
      "0.6915\n"
     ]
    }
   ],
   "source": [
    "print(\"{:.4f}\".format(norm.cdf((cap-mean)/totalSigma)))"
   ]
  },
  {
   "cell_type": "code",
   "execution_count": null,
   "metadata": {},
   "outputs": [],
   "source": []
  }
 ],
 "metadata": {
  "kernelspec": {
   "display_name": "Python 3",
   "language": "python",
   "name": "python3"
  },
  "language_info": {
   "codemirror_mode": {
    "name": "ipython",
    "version": 3
   },
   "file_extension": ".py",
   "mimetype": "text/x-python",
   "name": "python",
   "nbconvert_exporter": "python",
   "pygments_lexer": "ipython3",
   "version": "3.7.1"
  }
 },
 "nbformat": 4,
 "nbformat_minor": 2
}
