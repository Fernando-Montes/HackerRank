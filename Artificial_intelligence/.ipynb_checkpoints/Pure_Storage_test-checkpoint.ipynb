{
 "cells": [
  {
   "cell_type": "code",
   "execution_count": 4,
   "metadata": {},
   "outputs": [
    {
     "name": "stdout",
     "output_type": "stream",
     "text": [
      "4\n",
      "w\n",
      "b\n",
      "n\n",
      "c\n",
      "0\n",
      "c\n",
      "1\n",
      "\n"
     ]
    }
   ],
   "source": [
    "def findIndex(songs, q):\n",
    "    '''\n",
    "    returns index i where songs[i] == q\n",
    "    '''\n",
    "    for i in range(len(songs)):\n",
    "        if songs[i] == q:\n",
    "            return i\n",
    "    return None\n",
    "    \n",
    "def playlist(songs, k, q):\n",
    "    i = findIndex(songs,q)\n",
    "    l = len(songs)\n",
    "    return min(abs(k-i), abs(i-k), abs(l-k+i), abs(l-i+k))\n",
    "\n",
    "songs_count = int(input().strip())\n",
    "songs = []\n",
    "for _ in range(songs_count):\n",
    "    songs_item = input()\n",
    "    songs.append(songs_item)\n",
    "k = int(input().strip())\n",
    "q = input()\n",
    "result = playlist(songs, k, q)\n",
    "print(str(result) + '\\n')"
   ]
  },
  {
   "cell_type": "code",
   "execution_count": 13,
   "metadata": {},
   "outputs": [
    {
     "name": "stdout",
     "output_type": "stream",
     "text": [
      "6\n",
      "1\n",
      "1\n",
      "1\n",
      "2\n",
      "3\n",
      "2\n",
      "2\n",
      "2\n",
      "\n"
     ]
    }
   ],
   "source": [
    "def deleteProducts(ids, m):\n",
    "    # Create dictionary to count frequency of items\n",
    "    d = {}\n",
    "    for i in range(len(ids)):\n",
    "        if ids[i] in d.keys():\n",
    "            d[ids[i]] = d[ids[i]] + 1\n",
    "        else:\n",
    "            d[ids[i]] = 1\n",
    "    # Total numbers of ids\n",
    "    num_ids = len(d.keys())\n",
    "    sorted_values = list(d.values())\n",
    "    sorted_values.sort()   # Sort the frequencies of ids\n",
    "    for i in range(len(sorted_values)):\n",
    "        m = m - sorted_values[i]   # Start removing items that are not repeated as frequently\n",
    "        if m >= 0:\n",
    "            num_ids = num_ids - 1\n",
    "        else:\n",
    "            return num_ids\n",
    "        \n",
    "ids_count = int(input().strip())\n",
    "ids = []\n",
    "for _ in range(ids_count):\n",
    "    ids_item = int(input().strip())\n",
    "    ids.append(ids_item)\n",
    "m = int(input().strip())\n",
    "result = deleteProducts(ids, m)\n",
    "print(str(result) + '\\n')\n"
   ]
  }
 ],
 "metadata": {
  "kernelspec": {
   "display_name": "Python 3",
   "language": "python",
   "name": "python3"
  },
  "language_info": {
   "codemirror_mode": {
    "name": "ipython",
    "version": 3
   },
   "file_extension": ".py",
   "mimetype": "text/x-python",
   "name": "python",
   "nbconvert_exporter": "python",
   "pygments_lexer": "ipython3",
   "version": "3.7.1"
  }
 },
 "nbformat": 4,
 "nbformat_minor": 2
}
