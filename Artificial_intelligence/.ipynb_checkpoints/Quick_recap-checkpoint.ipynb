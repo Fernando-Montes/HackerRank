{
 "cells": [
  {
   "cell_type": "code",
   "execution_count": 289,
   "metadata": {},
   "outputs": [
    {
     "name": "stdout",
     "output_type": "stream",
     "text": [
      "0.14499815458068518\n"
     ]
    },
    {
     "data": {
      "image/png": "[encoded data removed]",
      "text/plain": [
       "<Figure size 432x288 with 1 Axes>"
      ]
     },
     "metadata": {
      "needs_background": "light"
     },
     "output_type": "display_data"
    }
   ],
   "source": [
    "# Correlation and Regression Lines - A Quick Recap #1\n",
    "# Compute Pearson's coefficient \n",
    "\n",
    "import math\n",
    "import numpy as np\n",
    "import matplotlib.pyplot as plt\n",
    "%matplotlib inline \n",
    "\n",
    "x = [15, 12, 8, 8, 7, 7, 7, 6, 5, 3]\n",
    "y = [10, 25, 17, 11, 13, 17, 20, 13, 9, 15]\n",
    "xbar = np.mean(x)\n",
    "ybar = np.mean(y)\n",
    "\n",
    "print( np.sum((x-xbar)*(y-ybar))/math.sqrt(np.sum((x-xbar)**2)*np.sum((y-ybar)**2)) )\n",
    "\n",
    "plt.scatter(x, y)\n",
    "plt.xlabel('x')\n",
    "plt.ylabel('y')\n",
    "plt.show()"
   ]
  },
  {
   "cell_type": "code",
   "execution_count": 296,
   "metadata": {},
   "outputs": [
    {
     "name": "stdout",
     "output_type": "stream",
     "text": [
      "[0.20833333] 13.375\n",
      "[ 0.20833333 13.375     ]\n"
     ]
    }
   ],
   "source": [
    "# Correlation and Regression Lines - A Quick Recap #2\n",
    "import numpy as np\n",
    "\n",
    "x = np.asarray([15, 12, 8, 8, 7, 7, 7, 6, 5, 3])\n",
    "x = x.reshape(-1,1)\n",
    "y = np.asarray([10, 25, 17, 11, 13, 17, 20, 13, 9, 15])\n",
    "\n",
    "# Using sklearn\n",
    "from sklearn.linear_model import LinearRegression\n",
    "model = LinearRegression(fit_intercept=True)\n",
    "model = model.fit(x, y)\n",
    "print(model.coef_, model.intercept_)\n",
    "\n",
    "# Using normal equation\n",
    "def preprocess(x):\n",
    "    return( np.concatenate((x, np.full((len(x),1), 1.)), axis = 1) )\n",
    "\n",
    "x = preprocess(x)\n",
    "w = np.matmul(np.matmul( np.linalg.inv(np.matmul(np.transpose(x), x)), np.transpose(x) ), y)\n",
    "print(w)"
   ]
  },
  {
   "cell_type": "code",
   "execution_count": 1344,
   "metadata": {},
   "outputs": [
    {
     "data": {
      "text/plain": [
       "array([15.45833333])"
      ]
     },
     "execution_count": 1344,
     "metadata": {},
     "output_type": "execute_result"
    },
    {
     "data": {
      "image/png": "[encoded data removed]",
      "text/plain": [
       "<Figure size 432x288 with 1 Axes>"
      ]
     },
     "metadata": {
      "needs_background": "light"
     },
     "output_type": "display_data"
    }
   ],
   "source": [
    "# Correlation and Regression Lines - A quick recap #3\n",
    "from sklearn.linear_model import LinearRegression\n",
    "from sklearn.preprocessing import PolynomialFeatures\n",
    "from sklearn.pipeline import make_pipeline\n",
    "import matplotlib.pyplot as plt\n",
    "%matplotlib inline \n",
    "\n",
    "x = [[15], [12], [8], [8], [7], [7], [7], [6], [5], [3]]\n",
    "y = [10, 25, 17, 11, 13, 17, 20, 13, 9, 15]\n",
    "\n",
    "model = make_pipeline(PolynomialFeatures(degree = 1), LinearRegression())\n",
    "model.fit(x, y)\n",
    "plt.scatter(x, y)\n",
    "plt.plot(x, model.predict(x))\n",
    "\n",
    "model.predict([[10]])"
   ]
  },
  {
   "cell_type": "code",
   "execution_count": 1350,
   "metadata": {},
   "outputs": [
    {
     "data": {
      "text/plain": [
       "8.5"
      ]
     },
     "execution_count": 1350,
     "metadata": {},
     "output_type": "execute_result"
    },
    {
     "data": {
      "image/png": "[encoded data removed]",
      "text/plain": [
       "<Figure size 432x288 with 1 Axes>"
      ]
     },
     "metadata": {
      "needs_background": "light"
     },
     "output_type": "display_data"
    }
   ],
   "source": [
    "# Correlation and Regression Lines - A quick recap #4\n",
    "import matplotlib.pyplot as plt\n",
    "%matplotlib inline \n",
    "\n",
    "x1 = [x for x in range(-10,10,1)]\n",
    "y1 = [(4*x + 33)/5 for x in range(-10,10,1)]\n",
    "\n",
    "x2 = [x for x in range(-10,10,1)]\n",
    "y2 = [(20*x -107)/9 for x in range(-10,10,1)]\n",
    "\n",
    "plt.plot(x1, y1)\n",
    "plt.plot(x2, y2)\n",
    "\n",
    "(9*7+107)/20"
   ]
  },
  {
   "cell_type": "code",
   "execution_count": 202,
   "metadata": {},
   "outputs": [
    {
     "name": "stdout",
     "output_type": "stream",
     "text": [
      "[102.76466618 133.34529589 135.03649408 130.30548218]\n",
      "102.76466618434463\n",
      "133.34529589397394\n",
      "135.03649408253466\n",
      "130.30548217755097\n"
     ]
    }
   ],
   "source": [
    "# Day 6: Multiple Linear Regression: Predicting House Prices\n",
    "def inputData():\n",
    "    f, n = map(int, input().split())\n",
    "    x_train = []\n",
    "    y_train = []\n",
    "    for i in range(n):\n",
    "        tmp = list(map(float, input().split()))\n",
    "        x_train.append(tmp[:-1])\n",
    "        y_train.append(tmp[-1])\n",
    "    m  = int(input())\n",
    "    x_test = []\n",
    "    for i in range(m):\n",
    "        x_test.append(list(map(float, input().split())))\n",
    "    return np.asarray(x_train), np.asarray(y_train), np.asarray(x_test)\n",
    "\n",
    "def outputData(res):\n",
    "    for i in range(len(res)):\n",
    "        print(res[i])\n",
    "    \n",
    "def preprocess(x):\n",
    "    return( np.concatenate((x, np.full((len(x),1), 1.), \\\n",
    "                               (x[:,0]**2).reshape(len(x),1), \\\n",
    "                               (x[:,1]**2).reshape(len(x),1), \\\n",
    "                               (x[:,0]*x[:,1]).reshape(len(x),1)), axis = 1) )\n",
    "\n",
    "#x_train, y_train, x_test = inputData()\n",
    "x_train = np.asarray([[0.18, 0.89], [1.0, 0.26], [0.92, 0.11], [0.07, 0.37], [0.85, 0.16], [0.99, 0.41], [0.87, 0.47]]) \n",
    "y_train = np.asarray([109.85, 155.72, 137.66, 76.17, 139.75, 162.6, 151.77])\n",
    "x_test = np.asarray([[0.49, 0.18], [0.57, 0.83], [0.56, 0.64], [0.76, 0.18]])\n",
    "\n",
    "# Using sklearn\n",
    "from sklearn.linear_model import LinearRegression\n",
    "from sklearn.preprocessing import PolynomialFeatures\n",
    "from sklearn.pipeline import make_pipeline\n",
    "model = make_pipeline(PolynomialFeatures(degree=2), LinearRegression(fit_intercept=False))\n",
    "y_pred = model.fit(x_train, y_train).predict(x_test)\n",
    "print(y_pred)\n",
    "\n",
    "# Using normal equation\n",
    "import numpy as np\n",
    "x_train = preprocess(x_train)\n",
    "x_test = preprocess(x_test)\n",
    "w = np.matmul(np.matmul( np.linalg.inv(np.matmul(np.transpose(x_train), x_train)), np.transpose(x_train) ), y_train)\n",
    "outputData(np.matmul(x_test, w))"
   ]
  }
 ],
 "metadata": {
  "kernelspec": {
   "display_name": "Python 3",
   "language": "python",
   "name": "python3"
  },
  "language_info": {
   "codemirror_mode": {
    "name": "ipython",
    "version": 3
   },
   "file_extension": ".py",
   "mimetype": "text/x-python",
   "name": "python",
   "nbconvert_exporter": "python",
   "pygments_lexer": "ipython3",
   "version": "3.7.1"
  }
 },
 "nbformat": 4,
 "nbformat_minor": 2
}
