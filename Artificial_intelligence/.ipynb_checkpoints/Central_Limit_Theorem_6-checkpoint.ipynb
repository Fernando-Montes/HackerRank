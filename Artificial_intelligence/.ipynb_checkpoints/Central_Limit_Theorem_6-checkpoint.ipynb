{
 "cells": [
  {
   "cell_type": "code",
   "execution_count": 10,
   "metadata": {},
   "outputs": [
    {
     "name": "stdout",
     "output_type": "stream",
     "text": [
      "52857.4470\n",
      "0.0050\n"
     ]
    }
   ],
   "source": [
    "# Central Limit Theorem 6\n",
    "# https://www.hackerrank.com/challenges/the-central-limit-theorem-6/problem?utm_campaign=challenge-recommendation&utm_medium=email&utm_source=24-hour-campaign\n",
    "\n",
    "import numpy as np\n",
    "from scipy.stats import norm\n",
    "\n",
    "sigma = 10000\n",
    "sampleSigma = sigma*np.sqrt(11)\n",
    "\n",
    "diff = 1\n",
    "d = 50000\n",
    "while abs(diff) > 0.000001:\n",
    "    if diff > 0:\n",
    "        d = d/2\n",
    "    else:\n",
    "        d = 3*d/2\n",
    "    mu = 74000 - 11*50000 + 11*d\n",
    "    diff = 0.005 - norm.cdf((20000-mu)/sampleSigma)\n",
    "print(\"{:.4f}\".format(d))\n",
    "print(\"{:.4f}\".format(norm.cdf((20000-mu)/sampleSigma)))   "
   ]
  },
  {
   "cell_type": "code",
   "execution_count": null,
   "metadata": {},
   "outputs": [],
   "source": []
  }
 ],
 "metadata": {
  "kernelspec": {
   "display_name": "Python 3",
   "language": "python",
   "name": "python3"
  },
  "language_info": {
   "codemirror_mode": {
    "name": "ipython",
    "version": 3
   },
   "file_extension": ".py",
   "mimetype": "text/x-python",
   "name": "python",
   "nbconvert_exporter": "python",
   "pygments_lexer": "ipython3",
   "version": "3.7.1"
  }
 },
 "nbformat": 4,
 "nbformat_minor": 2
}
