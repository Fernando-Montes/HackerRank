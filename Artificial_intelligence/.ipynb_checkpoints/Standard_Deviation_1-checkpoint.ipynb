{
 "cells": [
  {
   "cell_type": "code",
   "execution_count": 20,
   "metadata": {},
   "outputs": [
    {
     "data": {
      "text/plain": [
       "0.6666666666666666"
      ]
     },
     "execution_count": 20,
     "metadata": {},
     "output_type": "execute_result"
    }
   ],
   "source": [
    "# Standard deviation 1\n",
    "# https://www.hackerrank.com/challenges/standard-deviation-puzzles-1/problem\n",
    "import math\n",
    "\n",
    "mu = (1+2+3)/3\n",
    "var = (math.pow((1-mu), 2) + math.pow((2-mu), 2) + math.pow((3-mu), 2))/3\n",
    "var"
   ]
  },
  {
   "cell_type": "code",
   "execution_count": 54,
   "metadata": {},
   "outputs": [
    {
     "data": {
      "text/plain": [
       "0.6666617022546875"
      ]
     },
     "execution_count": 54,
     "metadata": {},
     "output_type": "execute_result"
    }
   ],
   "source": [
    "n = 2.942795\n",
    "mu = (1+2+3+n)/4\n",
    "var = (math.pow((1-mu), 2) + math.pow((2-mu), 2) + math.pow((3-mu), 2) + math.pow((n-mu), 2))/4\n",
    "var"
   ]
  },
  {
   "cell_type": "code",
   "execution_count": null,
   "metadata": {},
   "outputs": [],
   "source": []
  }
 ],
 "metadata": {
  "kernelspec": {
   "display_name": "Python 3",
   "language": "python",
   "name": "python3"
  },
  "language_info": {
   "codemirror_mode": {
    "name": "ipython",
    "version": 3
   },
   "file_extension": ".py",
   "mimetype": "text/x-python",
   "name": "python",
   "nbconvert_exporter": "python",
   "pygments_lexer": "ipython3",
   "version": "3.7.1"
  }
 },
 "nbformat": 4,
 "nbformat_minor": 2
}
