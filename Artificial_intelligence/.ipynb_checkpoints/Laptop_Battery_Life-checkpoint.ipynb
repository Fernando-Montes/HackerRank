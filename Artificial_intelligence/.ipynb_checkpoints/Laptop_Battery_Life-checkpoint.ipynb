{
 "cells": [
  {
   "cell_type": "code",
   "execution_count": 114,
   "metadata": {},
   "outputs": [
    {
     "name": "stdout",
     "output_type": "stream",
     "text": [
      "[2.] 0.0\n"
     ]
    },
    {
     "data": {
      "text/plain": [
       "<matplotlib.collections.PathCollection at 0xa1bbefba8>"
      ]
     },
     "execution_count": 114,
     "metadata": {},
     "output_type": "execute_result"
    },
    {
     "data": {
      "image/png": "[encoded data removed]",
      "text/plain": [
       "<Figure size 432x288 with 1 Axes>"
      ]
     },
     "metadata": {
      "needs_background": "light"
     },
     "output_type": "display_data"
    }
   ],
   "source": [
    "# Laptop battery life\n",
    "# https://www.hackerrank.com/challenges/battery/problem?h_r=next-challenge&h_v=zen\n",
    "\n",
    "import pandas as pd\n",
    "import matplotlib.pyplot as plt\n",
    "%matplotlib inline\n",
    "import numpy as np\n",
    "from sklearn.linear_model import LinearRegression\n",
    "\n",
    "file = pd.read_csv('~/Dropbox/Courses/Python/Algorithms/HackerRank/Data/trainingdata_BLL.txt', header = None)\n",
    "temp = np.asarray(file[file[1] != 8])\n",
    "X = temp[:,0].reshape(-1, 1)\n",
    "y = temp[:,1]\n",
    "reg = LinearRegression().fit(X, y)\n",
    "print( reg.coef_, reg.intercept_ )\n",
    "plt.scatter(X, y)"
   ]
  },
  {
   "cell_type": "code",
   "execution_count": 118,
   "metadata": {},
   "outputs": [
    {
     "name": "stdout",
     "output_type": "stream",
     "text": [
      "9\n",
      "8.00\n"
     ]
    }
   ],
   "source": [
    "if __name__ == '__main__':\n",
    "    timeCharged = float(input())\n",
    "    if timeCharged <= 0:\n",
    "        print(\"0.00\")\n",
    "    elif timeCharged < 4:\n",
    "        print(\"{:.2f}\".format(2*timeCharged ) )\n",
    "    else:\n",
    "        print(\"8.00\")"
   ]
  },
  {
   "cell_type": "code",
   "execution_count": null,
   "metadata": {},
   "outputs": [],
   "source": []
  }
 ],
 "metadata": {
  "kernelspec": {
   "display_name": "Python 3",
   "language": "python",
   "name": "python3"
  },
  "language_info": {
   "codemirror_mode": {
    "name": "ipython",
    "version": 3
   },
   "file_extension": ".py",
   "mimetype": "text/x-python",
   "name": "python",
   "nbconvert_exporter": "python",
   "pygments_lexer": "ipython3",
   "version": "3.7.1"
  }
 },
 "nbformat": 4,
 "nbformat_minor": 2
}
