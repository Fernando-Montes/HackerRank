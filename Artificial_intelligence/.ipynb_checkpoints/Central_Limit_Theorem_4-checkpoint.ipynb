{
 "cells": [
  {
   "cell_type": "code",
   "execution_count": 10,
   "metadata": {},
   "outputs": [
    {
     "name": "stdout",
     "output_type": "stream",
     "text": [
      "0.949991788734637\n",
      "484.32\n",
      "515.68\n"
     ]
    }
   ],
   "source": [
    "# Central Limit Theorem 4\n",
    "# https://www.hackerrank.com/challenges/the-central-limit-theorem-4/problem\n",
    "\n",
    "import numpy as np\n",
    "from scipy.stats import norm\n",
    "mu = 500\n",
    "sigma = 80\n",
    "sampleSigma = sigma/np.sqrt(100)\n",
    "\n",
    "def sumDist(a, b, mu, sampleSigma):\n",
    "    return norm.cdf((b-mu)/sampleSigma) - norm.cdf((a-mu)/sampleSigma)\n",
    "\n",
    "d = 500\n",
    "res = 1\n",
    "eps = 0.00001\n",
    "while abs(res - 0.95) > eps:\n",
    "    a = mu - d\n",
    "    b = mu + d\n",
    "    res = sumDist(a, b, mu, sampleSigma) \n",
    "    if (res - 0.95) > eps:\n",
    "        d = d/2\n",
    "    else:\n",
    "        d = 1.5*d\n",
    "print(res)\n",
    "print(\"{:.2f}\".format(a))\n",
    "print(\"{:.2f}\".format(b))"
   ]
  },
  {
   "cell_type": "code",
   "execution_count": null,
   "metadata": {},
   "outputs": [],
   "source": []
  }
 ],
 "metadata": {
  "kernelspec": {
   "display_name": "Python 3",
   "language": "python",
   "name": "python3"
  },
  "language_info": {
   "codemirror_mode": {
    "name": "ipython",
    "version": 3
   },
   "file_extension": ".py",
   "mimetype": "text/x-python",
   "name": "python",
   "nbconvert_exporter": "python",
   "pygments_lexer": "ipython3",
   "version": "3.7.1"
  }
 },
 "nbformat": 4,
 "nbformat_minor": 2
}
