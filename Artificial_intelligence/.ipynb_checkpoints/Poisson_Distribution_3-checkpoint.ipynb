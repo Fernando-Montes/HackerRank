{
 "cells": [
  {
   "cell_type": "code",
   "execution_count": 2,
   "metadata": {},
   "outputs": [
    {
     "name": "stdout",
     "output_type": "stream",
     "text": [
      "0.050\n",
      "0.983\n"
     ]
    }
   ],
   "source": [
    "# Poisson distribution 3\n",
    "# https://www.hackerrank.com/challenges/poisson-distribution-3/problem\n",
    "import numpy as np\n",
    "\n",
    "def poiss(lambd, x):\n",
    "    return( np.exp(-lambd)*np.power(lambd,x)/np.math.factorial(x) )\n",
    "\n",
    "lambd = 3\n",
    "print(\"{:.3f}\".format(poiss(lambd, 0)))\n",
    "print(\"{:.3f}\".format(1 - poiss(lambd, 0)*poiss(lambd, 0) - 2*poiss(lambd, 1)*poiss(lambd, 0)))"
   ]
  },
  {
   "cell_type": "code",
   "execution_count": null,
   "metadata": {},
   "outputs": [],
   "source": []
  }
 ],
 "metadata": {
  "kernelspec": {
   "display_name": "Python 3",
   "language": "python",
   "name": "python3"
  },
  "language_info": {
   "codemirror_mode": {
    "name": "ipython",
    "version": 3
   },
   "file_extension": ".py",
   "mimetype": "text/x-python",
   "name": "python",
   "nbconvert_exporter": "python",
   "pygments_lexer": "ipython3",
   "version": "3.7.1"
  }
 },
 "nbformat": 4,
 "nbformat_minor": 2
}
