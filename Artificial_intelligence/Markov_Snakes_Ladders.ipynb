{
 "cells": [
  {
   "cell_type": "code",
   "execution_count": 278,
   "metadata": {},
   "outputs": [
    {
     "name": "stdout",
     "output_type": "stream",
     "text": [
      "3\n",
      "0.32,0.32,0.12,0.04,0.07,0.13\n",
      "3,7\n",
      "32,62 42,68 12,98\n",
      "95,13 97,25 93,37 79,27 75,19 49,47 67,17\n",
      "0.39,0.05,0.14,0.05,0.12,0.25\n",
      "5,8\n",
      "32,62 44,66 22,58 34,60 2,90\n",
      "85,7 63,31 87,13 75,11 89,33 57,5 71,15 55,25\n",
      "0.54,0.02,0.02,0.01,0.3,0.11\n",
      "4,9\n",
      "8,52 6,80 26,42 2,72\n",
      "51,19 39,11 37,29 81,3 59,5 79,23 53,7 43,33 77,21\n"
     ]
    }
   ],
   "source": [
    "# Markov's Snakes and Ladders\n",
    "import re\n",
    "import random\n",
    "\n",
    "def inputData():\n",
    "    num_tests  = int(input())\n",
    "    prob = []\n",
    "    ladders = []\n",
    "    snakes = []\n",
    "    for i in range(num_tests):\n",
    "        prob.append(list(map(float, input().split(\",\"))))\n",
    "        num_ladders, num_snakes = map(int, input().split(\",\"))\n",
    "        ladders.append(list(map(int, re.split(' |,', input())) ))\n",
    "        snakes.append(list(map(int, re.split(' |,', input())) ))\n",
    "    return num_tests, prob, ladders, snakes\n",
    "\n",
    "num_tests, prob, ladders, snakes = inputData()"
   ]
  },
  {
   "cell_type": "code",
   "execution_count": 284,
   "metadata": {},
   "outputs": [
    {
     "name": "stdout",
     "output_type": "stream",
     "text": [
      "172.0724\n",
      "97.4486\n",
      "160.447\n"
     ]
    }
   ],
   "source": [
    "def dice(prob):\n",
    "    '''\n",
    "    Returns roll of the dice\n",
    "    '''\n",
    "    d = 0\n",
    "    total = 0\n",
    "    ran = random.random()\n",
    "    while total < ran:\n",
    "        total = total + prob[d]\n",
    "        d = d + 1\n",
    "    return d\n",
    "\n",
    "def Correction(pos, snakes):\n",
    "    '''\n",
    "    Returns corrected position\n",
    "    '''\n",
    "    for i in range(int(len(snakes)/2)):\n",
    "        if pos == snakes[2*i]:\n",
    "            pos = snakes[2*i+1]\n",
    "    return pos\n",
    "\n",
    "def Move(pos, prob, snakes, ladders):\n",
    "    '''\n",
    "    Returns next position after 1 roll in the game\n",
    "    '''\n",
    "    d = dice(prob)\n",
    "    if pos + d <= 100:\n",
    "        pos = pos + d\n",
    "        pos = Correction(pos, snakes)\n",
    "        pos = Correction(pos, ladders)\n",
    "        pos = Correction(pos, snakes)\n",
    "        pos = Correction(pos, ladders)\n",
    "    return(pos)\n",
    "\n",
    "def Game(prob, snakes, ladders):\n",
    "    pos = 1\n",
    "    num_rolls = 0\n",
    "    win = False\n",
    "    while not win:\n",
    "        num_rolls = num_rolls + 1\n",
    "        pos = Move(pos, prob, snakes, ladders)\n",
    "        if pos == 100 or num_rolls >= 1000:\n",
    "            win = True\n",
    "    return num_rolls\n",
    "\n",
    "for j in range(num_tests):\n",
    "    total_rolls = []\n",
    "    for i in range(5000):\n",
    "        total_rolls.append(Game(prob[j], snakes[j], ladders[j]))\n",
    "    print(int(np.mean(total_rolls)))"
   ]
  }
 ],
 "metadata": {
  "kernelspec": {
   "display_name": "Python 3",
   "language": "python",
   "name": "python3"
  },
  "language_info": {
   "codemirror_mode": {
    "name": "ipython",
    "version": 3
   },
   "file_extension": ".py",
   "mimetype": "text/x-python",
   "name": "python",
   "nbconvert_exporter": "python",
   "pygments_lexer": "ipython3",
   "version": "3.7.1"
  }
 },
 "nbformat": 4,
 "nbformat_minor": 2
}
