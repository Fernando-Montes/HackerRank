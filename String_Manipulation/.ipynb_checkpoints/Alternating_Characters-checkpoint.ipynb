{
 "cells": [
  {
   "cell_type": "code",
   "execution_count": 9,
   "metadata": {},
   "outputs": [
    {
     "name": "stdout",
     "output_type": "stream",
     "text": [
      "1\n",
      "AAABBB\n",
      "4\n",
      "\n"
     ]
    }
   ],
   "source": [
    "# Alternating characters\n",
    "def alternatingCharacters(s):\n",
    "    s = list(s)\n",
    "    prev = s[0]\n",
    "    delete = 0\n",
    "    for i in range(1, len(s)):\n",
    "        if s[i] == prev:\n",
    "            delete = delete + 1\n",
    "        else:\n",
    "            prev = s[i]\n",
    "    return delete\n",
    "    \n",
    "q = int(input())\n",
    "for q_itr in range(q):\n",
    "    s = input()\n",
    "    result = alternatingCharacters(s)\n",
    "    print(str(result) + '\\n')"
   ]
  }
 ],
 "metadata": {
  "kernelspec": {
   "display_name": "Python 3",
   "language": "python",
   "name": "python3"
  },
  "language_info": {
   "codemirror_mode": {
    "name": "ipython",
    "version": 3
   },
   "file_extension": ".py",
   "mimetype": "text/x-python",
   "name": "python",
   "nbconvert_exporter": "python",
   "pygments_lexer": "ipython3",
   "version": "3.7.1"
  }
 },
 "nbformat": 4,
 "nbformat_minor": 2
}
