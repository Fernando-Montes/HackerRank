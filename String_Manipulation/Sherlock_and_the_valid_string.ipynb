{
 "cells": [
  {
   "cell_type": "code",
   "execution_count": 11,
   "metadata": {},
   "outputs": [
    {
     "name": "stdout",
     "output_type": "stream",
     "text": [
      "aabbc\n",
      "YES\n",
      "\n"
     ]
    }
   ],
   "source": [
    "# Sherlock and the valid string\n",
    "def isValid(s):\n",
    "    d = {}\n",
    "    for c in s:\n",
    "        if c in d.keys():\n",
    "            d[c] = d[c] + 1\n",
    "        else:\n",
    "            d[c] = 1\n",
    "    tmp = list(d.values())\n",
    "    minV = min(tmp)\n",
    "    check = [tmp[i] - minV for i in range(len(tmp))]\n",
    "    if sum(check) <= 1:\n",
    "        return 'YES'\n",
    "    else:   # Check for cases like aabbc\n",
    "        sort = sorted(tmp) \n",
    "        sort.pop(0)\n",
    "        minV = min(sort)\n",
    "        check = [sort[i] - minV for i in range(len(sort))]\n",
    "        if sum(check) == 0:\n",
    "            return 'YES'\n",
    "        else:\n",
    "            return 'NO'\n",
    "    \n",
    "s = input()\n",
    "result = isValid(s)\n",
    "print(result + '\\n')"
   ]
  },
  {
   "cell_type": "code",
   "execution_count": null,
   "metadata": {},
   "outputs": [],
   "source": []
  }
 ],
 "metadata": {
  "kernelspec": {
   "display_name": "Python 3",
   "language": "python",
   "name": "python3"
  },
  "language_info": {
   "codemirror_mode": {
    "name": "ipython",
    "version": 3
   },
   "file_extension": ".py",
   "mimetype": "text/x-python",
   "name": "python",
   "nbconvert_exporter": "python",
   "pygments_lexer": "ipython3",
   "version": "3.7.1"
  }
 },
 "nbformat": 4,
 "nbformat_minor": 2
}
