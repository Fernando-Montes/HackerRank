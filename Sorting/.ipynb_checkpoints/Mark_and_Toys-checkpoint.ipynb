{
 "cells": [
  {
   "cell_type": "code",
   "execution_count": 42,
   "metadata": {},
   "outputs": [
    {
     "name": "stdout",
     "output_type": "stream",
     "text": [
      "7 50\n",
      "1 12 5 111 200 1000 10\n",
      "4\n",
      "\n"
     ]
    }
   ],
   "source": [
    "# Mark and Toys\n",
    "\n",
    "def mergeSort(arr):\n",
    "    n = len(arr)\n",
    "    if n == 1:\n",
    "        return arr\n",
    "    else:\n",
    "        arr1 = mergeSort(arr[:int(n/2)])\n",
    "        arr2 = mergeSort(arr[int(n/2):])\n",
    "        l1 = 0\n",
    "        l2 = 0\n",
    "        sorted = []\n",
    "        for i in range(n):\n",
    "            if l1 < len(arr1) and l2 < len(arr2):\n",
    "                if arr1[l1] <= arr2[l2]:\n",
    "                    sorted.append(arr1[l1])\n",
    "                    l1 = l1 + 1\n",
    "                else:\n",
    "                    sorted.append(arr2[l2])\n",
    "                    l2 = l2 + 1\n",
    "            elif l1 < len(arr1):\n",
    "                sorted.append(arr1[l1])\n",
    "                l1 = l1 + 1\n",
    "            else:\n",
    "                sorted.append(arr2[l2])\n",
    "                l2 = l2 + 1\n",
    "    return sorted\n",
    "\n",
    "def maximumToys(prices, k):\n",
    "    sorted_prices = mergeSort(prices)\n",
    "    toys = 0\n",
    "    spent = 0\n",
    "    while spent <= k:\n",
    "        spent = spent + sorted_prices[toys]\n",
    "        toys = toys + 1\n",
    "    return toys-1\n",
    "        \n",
    "nk = input().split()\n",
    "n = int(nk[0])\n",
    "k = int(nk[1])\n",
    "prices = list(map(int, input().rstrip().split()))\n",
    "result = maximumToys(prices, k)\n",
    "print(str(result) + '\\n')"
   ]
  }
 ],
 "metadata": {
  "kernelspec": {
   "display_name": "Python 3",
   "language": "python",
   "name": "python3"
  },
  "language_info": {
   "codemirror_mode": {
    "name": "ipython",
    "version": 3
   },
   "file_extension": ".py",
   "mimetype": "text/x-python",
   "name": "python",
   "nbconvert_exporter": "python",
   "pygments_lexer": "ipython3",
   "version": "3.7.1"
  }
 },
 "nbformat": 4,
 "nbformat_minor": 2
}
