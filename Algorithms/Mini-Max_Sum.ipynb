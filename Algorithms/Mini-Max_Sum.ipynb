{
 "cells": [
  {
   "cell_type": "code",
   "execution_count": 7,
   "metadata": {},
   "outputs": [
    {
     "name": "stdout",
     "output_type": "stream",
     "text": [
      "1 2 3 4 5\n",
      "10 14\n"
     ]
    }
   ],
   "source": [
    "def miniMaxSum(arr):\n",
    "    sortedArray = sorted(arr)\n",
    "    minSum = 0\n",
    "    maxSum = 0\n",
    "    for i in range(5):\n",
    "        if i != 4:\n",
    "            minSum = minSum + sortedArray[i]\n",
    "        if i != 0:\n",
    "            maxSum = maxSum + sortedArray[i]   \n",
    "    print(minSum, maxSum)\n",
    "    \n",
    "\n",
    "arr = list(map(int, input().rstrip().split()))\n",
    "miniMaxSum(arr)"
   ]
  },
  {
   "cell_type": "code",
   "execution_count": null,
   "metadata": {},
   "outputs": [],
   "source": []
  }
 ],
 "metadata": {
  "kernelspec": {
   "display_name": "Python 3",
   "language": "python",
   "name": "python3"
  },
  "language_info": {
   "codemirror_mode": {
    "name": "ipython",
    "version": 3
   },
   "file_extension": ".py",
   "mimetype": "text/x-python",
   "name": "python",
   "nbconvert_exporter": "python",
   "pygments_lexer": "ipython3",
   "version": "3.7.1"
  }
 },
 "nbformat": 4,
 "nbformat_minor": 2
}
