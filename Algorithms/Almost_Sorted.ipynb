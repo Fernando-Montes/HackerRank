{
 "cells": [
  {
   "cell_type": "code",
   "execution_count": null,
   "metadata": {},
   "outputs": [],
   "source": [
    "def almostSorted(arr):\n",
    "    sort = True\n",
    "    swap = True\n",
    "    reverse = True\n",
    "    prev = arr[i]\n",
    "    for i in range(1, len(arr)):\n",
    "        if sort == False:\n",
    "            if arr[i] < arr[ini]\n",
    "                swap = False\n",
    "            if arr[i] < prev ...\n",
    "            \n",
    "        if prev > arr[i]:\n",
    "            ini = i\n",
    "            sort = False\n",
    "        prev = arr[i]\n",
    "                \n",
    "\n",
    "n = int(input())\n",
    "arr = list(map(int, input().rstrip().split()))\n",
    "almostSorted(arr)"
   ]
  }
 ],
 "metadata": {
  "kernelspec": {
   "display_name": "Python 3",
   "language": "python",
   "name": "python3"
  },
  "language_info": {
   "codemirror_mode": {
    "name": "ipython",
    "version": 3
   },
   "file_extension": ".py",
   "mimetype": "text/x-python",
   "name": "python",
   "nbconvert_exporter": "python",
   "pygments_lexer": "ipython3",
   "version": "3.7.1"
  }
 },
 "nbformat": 4,
 "nbformat_minor": 2
}
