{
 "cells": [
  {
   "cell_type": "code",
   "execution_count": 56,
   "metadata": {},
   "outputs": [
    {
     "name": "stdout",
     "output_type": "stream",
     "text": [
      "haveaniceday\n",
      "hae and via ecy \n"
     ]
    }
   ],
   "source": [
    "# Encryption\n",
    "# https://www.hackerrank.com/challenges/encryption/problem\n",
    "\n",
    "import math\n",
    "import os\n",
    "import random\n",
    "import re\n",
    "import sys\n",
    "\n",
    "# Complete the encryption function below.\n",
    "def encryption(s):\n",
    "    s = s.strip('')\n",
    "    row = math.floor(math.sqrt(len(s)))\n",
    "    col = math.ceil(math.sqrt(len(s)))  \n",
    "    if row*col < len(s):\n",
    "        if row < col:\n",
    "            row = row + 1\n",
    "        else:\n",
    "            col = col + 1\n",
    "    m = [['-' for _ in range(col)] for _ in range(row)]\n",
    "    i = 0\n",
    "    r = 0\n",
    "    c = 0\n",
    "    while i < len(s):\n",
    "        m[r][c] = s[i]\n",
    "        if (i+1)%col == 0 and i!=0:\n",
    "            r = r + 1\n",
    "            c = 0\n",
    "        else:\n",
    "            c = c + 1\n",
    "        i = i + 1\n",
    "    \n",
    "    res = ''\n",
    "    i = 0\n",
    "    r = 0\n",
    "    c = 0\n",
    "    while i < row*col:\n",
    "        if m[r][c] != '-': \n",
    "            res = res + str(m[r][c])\n",
    "        if (i+1)%row == 0 and i!=0: \n",
    "            c = c + 1\n",
    "            r = 0\n",
    "            res = res + str(' ')\n",
    "        else:\n",
    "            r = r + 1\n",
    "        i = i + 1\n",
    "    return(res)\n",
    "        \n",
    "s = input()\n",
    "result = encryption(s)\n",
    "print(result)"
   ]
  },
  {
   "cell_type": "code",
   "execution_count": null,
   "metadata": {},
   "outputs": [],
   "source": []
  }
 ],
 "metadata": {
  "kernelspec": {
   "display_name": "Python 3",
   "language": "python",
   "name": "python3"
  },
  "language_info": {
   "codemirror_mode": {
    "name": "ipython",
    "version": 3
   },
   "file_extension": ".py",
   "mimetype": "text/x-python",
   "name": "python",
   "nbconvert_exporter": "python",
   "pygments_lexer": "ipython3",
   "version": "3.7.1"
  }
 },
 "nbformat": 4,
 "nbformat_minor": 2
}
