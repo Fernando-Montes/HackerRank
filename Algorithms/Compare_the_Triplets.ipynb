{
 "cells": [
  {
   "cell_type": "code",
   "execution_count": 3,
   "metadata": {},
   "outputs": [
    {
     "name": "stdout",
     "output_type": "stream",
     "text": [
      "5 6 7\n",
      "3 6 10\n",
      "1 1\n"
     ]
    }
   ],
   "source": [
    "\n",
    "# Complete the compareTriplets function below.\n",
    "def compareTriplets(a, b):\n",
    "    res = [0,0]\n",
    "    for i in [0,1,2]:\n",
    "        if a[i]>b[i]:\n",
    "            res[0] = res[0]+1\n",
    "        elif b[i]>a[i]:\n",
    "            res[1] = res[1]+1\n",
    "    return res\n",
    "\n",
    "a = list(map(int, input().rstrip().split()))\n",
    "b = list(map(int, input().rstrip().split()))\n",
    "\n",
    "result = compareTriplets(a, b)\n",
    "print(' '.join(map(str, result)))"
   ]
  },
  {
   "cell_type": "code",
   "execution_count": null,
   "metadata": {},
   "outputs": [],
   "source": []
  }
 ],
 "metadata": {
  "kernelspec": {
   "display_name": "Python 3",
   "language": "python",
   "name": "python3"
  },
  "language_info": {
   "codemirror_mode": {
    "name": "ipython",
    "version": 3
   },
   "file_extension": ".py",
   "mimetype": "text/x-python",
   "name": "python",
   "nbconvert_exporter": "python",
   "pygments_lexer": "ipython3",
   "version": "3.7.1"
  }
 },
 "nbformat": 4,
 "nbformat_minor": 2
}
