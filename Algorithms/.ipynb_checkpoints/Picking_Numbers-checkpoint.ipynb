{
 "cells": [
  {
   "cell_type": "code",
   "execution_count": 13,
   "metadata": {},
   "outputs": [
    {
     "name": "stdout",
     "output_type": "stream",
     "text": [
      "100\n",
      "66 66 66 66 66 66 66 66 66 66 66 66 66 66 66 66 66 66 66 66 66 66 66 66 66 66 66 66 66 66 66 66 66 66 66 66 66 66 66 66 66 66 66 66 66 66 66 66 66 66 66 66 66 66 66 66 66 66 66 66 66 66 66 66 66 66 66 66 66 66 66 66 66 66 66 66 66 66 66 66 66 66 66 66 66 66 66 66 66 66 66 66 66 66 66 66 66 66 66 66\n",
      "[0, 0, 0, 0, 0, 0, 0, 0, 0, 0, 0, 0, 0, 0, 0, 0, 0, 0, 0, 0, 0, 0, 0, 0, 0, 0, 0, 0, 0, 0, 0, 0, 0, 0, 0, 0, 0, 0, 0, 0, 0, 0, 0, 0, 0, 0, 0, 0, 0, 0, 0, 0, 0, 0, 0, 0, 0, 0, 0, 0, 0, 0, 0, 0, 0, 0, 0, 0, 0, 0, 0, 0, 0, 0, 0, 0, 0, 0, 0, 0, 0, 0, 0, 0, 0, 0, 0, 0, 0, 0, 0, 0, 0, 0, 0, 0, 0, 0, 0, 0]\n",
      "100\n"
     ]
    }
   ],
   "source": [
    "# Picking numbers\n",
    "# https://www.hackerrank.com/challenges/picking-numbers/problem\n",
    "\n",
    "#!/bin/python3\n",
    "\n",
    "import math\n",
    "import os\n",
    "import random\n",
    "import re\n",
    "import sys\n",
    "\n",
    "def pickingNumbers(a):\n",
    "    a.sort()\n",
    "    diff = [0]\n",
    "    for i in range(1, len(a)):\n",
    "        diff.append(a[i] - a[i-1])\n",
    "    longest = 1 # Longest array\n",
    "    current = 1 # current array\n",
    "    tmp = 0\n",
    "    print(diff)\n",
    "    for i in range(1, len(diff)):\n",
    "        if diff[i] + tmp > 1:\n",
    "            tmp = 0\n",
    "            if current > longest:\n",
    "                longest = current\n",
    "            current = 1\n",
    "        else:\n",
    "            tmp = tmp + diff[i]\n",
    "            current = current + 1\n",
    "    if current > longest:\n",
    "        longest = current\n",
    "    print(longest)\n",
    "            \n",
    "n = int(input().strip())\n",
    "a = list(map(int, input().rstrip().split()))\n",
    "result = pickingNumbers(a)"
   ]
  },
  {
   "cell_type": "code",
   "execution_count": null,
   "metadata": {},
   "outputs": [],
   "source": []
  }
 ],
 "metadata": {
  "kernelspec": {
   "display_name": "Python 3",
   "language": "python",
   "name": "python3"
  },
  "language_info": {
   "codemirror_mode": {
    "name": "ipython",
    "version": 3
   },
   "file_extension": ".py",
   "mimetype": "text/x-python",
   "name": "python",
   "nbconvert_exporter": "python",
   "pygments_lexer": "ipython3",
   "version": "3.7.1"
  }
 },
 "nbformat": 4,
 "nbformat_minor": 2
}
