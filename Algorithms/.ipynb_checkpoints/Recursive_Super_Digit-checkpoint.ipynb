{
 "cells": [
  {
   "cell_type": "code",
   "execution_count": 45,
   "metadata": {},
   "outputs": [
    {
     "name": "stdout",
     "output_type": "stream",
     "text": [
      "354663094731265563220004 1\n",
      "5\n"
     ]
    }
   ],
   "source": [
    "# Recursive super digit\n",
    "# https://www.hackerrank.com/challenges/recursive-digit-sum/problem?utm_campaign=challenge-recommendation&utm_medium=email&utm_source=24-hour-campaign\n",
    "\n",
    "#!/bin/python3\n",
    "\n",
    "import math\n",
    "import os\n",
    "import random\n",
    "import re\n",
    "import sys\n",
    "\n",
    "# Complete the superDigit function below.\n",
    "def superDigit(n, k):\n",
    "    sd = 0\n",
    "    n = str(n).split()\n",
    "    for i in range(len(n[0])): sd = sd + int(n[0][i])\n",
    "    sd = k * sd\n",
    "    if sd > 9:\n",
    "        return( superDigit(sd, 1) )\n",
    "    else: \n",
    "        return int(sd)\n",
    "    \n",
    "nk = input().split()\n",
    "n = nk[0]\n",
    "k = int(nk[1])\n",
    "result = superDigit(n, k)\n",
    "print(result)"
   ]
  }
 ],
 "metadata": {
  "kernelspec": {
   "display_name": "Python 3",
   "language": "python",
   "name": "python3"
  },
  "language_info": {
   "codemirror_mode": {
    "name": "ipython",
    "version": 3
   },
   "file_extension": ".py",
   "mimetype": "text/x-python",
   "name": "python",
   "nbconvert_exporter": "python",
   "pygments_lexer": "ipython3",
   "version": "3.7.1"
  }
 },
 "nbformat": 4,
 "nbformat_minor": 2
}
