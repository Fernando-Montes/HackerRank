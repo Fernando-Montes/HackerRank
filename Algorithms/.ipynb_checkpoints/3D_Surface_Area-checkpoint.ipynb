{
 "cells": [
  {
   "cell_type": "code",
   "execution_count": 16,
   "metadata": {},
   "outputs": [
    {
     "name": "stdout",
     "output_type": "stream",
     "text": [
      "1 1\n",
      "1\n",
      "6\n",
      "\n"
     ]
    }
   ],
   "source": [
    "def surfaceArea(A):\n",
    "    H = len(A)\n",
    "    W = len(A[0])\n",
    "    res = 2*H*W\n",
    "    for i in range(H):\n",
    "        for j in range(W):\n",
    "            if i == 0:\n",
    "                res = res + A[i][j]\n",
    "            if i == H-1:\n",
    "                res = res + A[i][j]\n",
    "            if j == 0:\n",
    "                res = res + A[i][j]\n",
    "            if j == W-1:\n",
    "                res = res + A[i][j]\n",
    "            if i < H-1 and A[i][j] != A[i+1][j] :\n",
    "                res = res + abs(A[i+1][j]-A[i][j])\n",
    "            if j < W-1 and A[i][j] != A[i][j+1] :\n",
    "                res = res + abs(A[i][j+1]-A[i][j])\n",
    "    return res\n",
    "    \n",
    "HW = input().split()\n",
    "H = int(HW[0])\n",
    "W = int(HW[1])\n",
    "A = []\n",
    "for _ in range(H):\n",
    "    A.append(list(map(int, input().rstrip().split())))\n",
    "result = surfaceArea(A)\n",
    "print(str(result) + '\\n')"
   ]
  },
  {
   "cell_type": "code",
   "execution_count": 13,
   "metadata": {},
   "outputs": [
    {
     "data": {
      "text/plain": [
       "3"
      ]
     },
     "execution_count": 13,
     "metadata": {},
     "output_type": "execute_result"
    }
   ],
   "source": [
    "A = [[1,1], [2,3]]\n",
    "A[1][1]"
   ]
  },
  {
   "cell_type": "code",
   "execution_count": null,
   "metadata": {},
   "outputs": [],
   "source": []
  }
 ],
 "metadata": {
  "kernelspec": {
   "display_name": "Python 3",
   "language": "python",
   "name": "python3"
  },
  "language_info": {
   "codemirror_mode": {
    "name": "ipython",
    "version": 3
   },
   "file_extension": ".py",
   "mimetype": "text/x-python",
   "name": "python",
   "nbconvert_exporter": "python",
   "pygments_lexer": "ipython3",
   "version": "3.7.1"
  }
 },
 "nbformat": 4,
 "nbformat_minor": 2
}
