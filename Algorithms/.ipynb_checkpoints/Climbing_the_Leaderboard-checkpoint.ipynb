{
 "cells": [
  {
   "cell_type": "code",
   "execution_count": 37,
   "metadata": {},
   "outputs": [
    {
     "name": "stdout",
     "output_type": "stream",
     "text": [
      "100 90 90 80 75 60\n",
      "50 65 77 90 102\n",
      "6\n",
      "5\n",
      "4\n",
      "2\n",
      "1\n"
     ]
    }
   ],
   "source": [
    "def binaryInsert(scores, n1, n2, a):\n",
    "    if n2 - n1 <= 1:\n",
    "        if scores[n1] == a:\n",
    "            return( scores, n1 )\n",
    "        elif scores[n2] == a:\n",
    "            return( scores, n2 )\n",
    "        elif a > scores[n1]:\n",
    "            scores.insert(n1, a)\n",
    "            return( scores, n1 )\n",
    "        elif scores[n1] > a and scores[n2] < a:\n",
    "            scores.insert(n1+1, a)\n",
    "            return( scores, n1+1 )\n",
    "        else:\n",
    "            scores.insert(n2+1, a)\n",
    "            return( scores, n2+1 )\n",
    "    m = int((n2+n1)/2)\n",
    "    if a == scores[m]:\n",
    "        return( scores, m )\n",
    "    elif a < scores[m]:\n",
    "        return( binaryInsert(scores, m, n2, a) )\n",
    "    else:\n",
    "        return( binaryInsert(scores, n1, m, a) )\n",
    "\n",
    "# Complete the climbingLeaderboard function below.\n",
    "def climbingLeaderboard(scores, alice):\n",
    "    scores = list(dict.fromkeys(scores))\n",
    "    res = []\n",
    "    for a in alice:\n",
    "        scores, pos = binaryInsert(scores, 0, len(scores)-1, a)\n",
    "        #print(scores, pos)\n",
    "        res.append(pos+1)\n",
    "    return( res )\n",
    "    \n",
    "scores = list(map(int, input().rstrip().split()))\n",
    "alice = list(map(int, input().rstrip().split()))\n",
    "result = climbingLeaderboard(scores, alice)\n",
    "print('\\n'.join(map(str, result)))"
   ]
  },
  {
   "cell_type": "code",
   "execution_count": 35,
   "metadata": {},
   "outputs": [
    {
     "data": {
      "text/plain": [
       "[100, 80]"
      ]
     },
     "execution_count": 35,
     "metadata": {},
     "output_type": "execute_result"
    }
   ],
   "source": []
  },
  {
   "cell_type": "code",
   "execution_count": null,
   "metadata": {},
   "outputs": [],
   "source": []
  }
 ],
 "metadata": {
  "kernelspec": {
   "display_name": "Python 3",
   "language": "python",
   "name": "python3"
  },
  "language_info": {
   "codemirror_mode": {
    "name": "ipython",
    "version": 3
   },
   "file_extension": ".py",
   "mimetype": "text/x-python",
   "name": "python",
   "nbconvert_exporter": "python",
   "pygments_lexer": "ipython3",
   "version": "3.7.1"
  }
 },
 "nbformat": 4,
 "nbformat_minor": 2
}
