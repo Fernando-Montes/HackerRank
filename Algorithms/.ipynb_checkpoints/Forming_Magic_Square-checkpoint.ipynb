{
 "cells": [
  {
   "cell_type": "code",
   "execution_count": 31,
   "metadata": {},
   "outputs": [
    {
     "name": "stdout",
     "output_type": "stream",
     "text": [
      "4 8 2\n",
      "4 5 7\n",
      "6 1 6\n",
      "4\n"
     ]
    }
   ],
   "source": [
    "# Forming a magic square\n",
    "# https://www.hackerrank.com/challenges/magic-square-forming/problem\n",
    "\n",
    "import math\n",
    "import os\n",
    "import random\n",
    "import re\n",
    "import sys\n",
    "\n",
    "magicSquares = [[[8,1,6],[3,5,7],[4,9,2]], [[6,1,8],[7,5,3],[2,9,4]], \n",
    "                [[4,9,2],[3,5,7],[8,1,6]], [[2,9,4],[7,5,3],[6,1,8]],\n",
    "                [[8,3,4],[1,5,9],[6,7,2]], [[4,3,8],[9,5,1],[2,7,6]],\n",
    "                [[6,7,2],[1,5,9],[8,3,4]], [[2,7,6],[9,5,1],[4,3,8]]]\n",
    "\n",
    "# Complete the formingMagicSquare function below.\n",
    "def formingMagicSquare(s):\n",
    "    minCost = 100\n",
    "    for i in range(8):\n",
    "        cost = 0\n",
    "        for c in range(3):\n",
    "            for r in range(3):\n",
    "                cost = cost + abs(s[r][c] - magicSquares[i][r][c])\n",
    "        if cost < minCost:\n",
    "            minCost = cost\n",
    "            finalS = magicSquares[i]\n",
    "    return minCost\n",
    "\n",
    "#s = [[5, 3, 4], [1, 5, 8], [6, 4, 2]]\n",
    "s = []\n",
    "for _ in range(3):\n",
    "    s.append(list(map(int, input().rstrip().split())))\n",
    "\n",
    "result = formingMagicSquare(s)\n",
    "print(result)"
   ]
  }
 ],
 "metadata": {
  "kernelspec": {
   "display_name": "Python 3",
   "language": "python",
   "name": "python3"
  },
  "language_info": {
   "codemirror_mode": {
    "name": "ipython",
    "version": 3
   },
   "file_extension": ".py",
   "mimetype": "text/x-python",
   "name": "python",
   "nbconvert_exporter": "python",
   "pygments_lexer": "ipython3",
   "version": "3.7.1"
  }
 },
 "nbformat": 4,
 "nbformat_minor": 2
}
