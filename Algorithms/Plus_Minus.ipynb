{
 "cells": [
  {
   "cell_type": "code",
   "execution_count": 3,
   "metadata": {},
   "outputs": [
    {
     "name": "stdout",
     "output_type": "stream",
     "text": [
      "6\n",
      "-4 3 -9 0 4 1\n",
      "0.500000\n",
      "0.333333\n",
      "0.166667\n"
     ]
    }
   ],
   "source": [
    "# Plus Minus\n",
    "# https://www.hackerrank.com/challenges/plus-minus/problem\n",
    "\n",
    "import math\n",
    "import os\n",
    "import random\n",
    "import re\n",
    "import sys\n",
    "\n",
    "# Complete the plusMinus function below.\n",
    "def plusMinus(arr):\n",
    "    pos = 0\n",
    "    neg = 0\n",
    "    zer = 0\n",
    "    for i in range(len(arr)):\n",
    "        if arr[i] > 0:\n",
    "            pos = pos + 1\n",
    "        elif arr[i] == 0:\n",
    "            zer = zer + 1\n",
    "        else:\n",
    "            neg = neg + 1\n",
    "    print(\"{:.6f}\".format(pos/len(arr)))\n",
    "    print(\"{:.6f}\".format(neg/len(arr)))\n",
    "    print(\"{:.6f}\".format(zer/len(arr)))\n",
    "\n",
    "n = int(input())\n",
    "arr = list(map(int, input().rstrip().split()))\n",
    "plusMinus(arr)"
   ]
  },
  {
   "cell_type": "code",
   "execution_count": null,
   "metadata": {},
   "outputs": [],
   "source": []
  }
 ],
 "metadata": {
  "kernelspec": {
   "display_name": "Python 3",
   "language": "python",
   "name": "python3"
  },
  "language_info": {
   "codemirror_mode": {
    "name": "ipython",
    "version": 3
   },
   "file_extension": ".py",
   "mimetype": "text/x-python",
   "name": "python",
   "nbconvert_exporter": "python",
   "pygments_lexer": "ipython3",
   "version": "3.7.1"
  }
 },
 "nbformat": 4,
 "nbformat_minor": 2
}
