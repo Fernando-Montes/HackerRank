{
 "cells": [
  {
   "cell_type": "code",
   "execution_count": 30,
   "metadata": {},
   "outputs": [
    {
     "name": "stdout",
     "output_type": "stream",
     "text": [
      "1\n",
      "2\n",
      "Prime\n"
     ]
    }
   ],
   "source": [
    "# Time Complexity: Primality\n",
    "# https://www.hackerrank.com/challenges/ctci-big-o/problem?h_l=interview&playlist_slugs%5B%5D=interview-preparation-kit&playlist_slugs%5B%5D=miscellaneous\n",
    "\n",
    "#!/bin/python3\n",
    "\n",
    "import math\n",
    "import os\n",
    "import random\n",
    "import re\n",
    "import sys\n",
    "\n",
    "noprimes = set(j for i in range(2, 1000) for j in range(i*2, 1000000, i))\n",
    "primes = [i for i in range(2, 1000000) if i not in noprimes]\n",
    "\n",
    "# Complete the primality function below.\n",
    "def primality(n):\n",
    "    i = 0\n",
    "    flagPrime = True\n",
    "    while primes[i] <= math.sqrt(n) and flagPrime == True :\n",
    "        if n%primes[i] == 0:\n",
    "            return(\"Not prime\")\n",
    "            flagPrime = False\n",
    "        else:\n",
    "            i = i + 1\n",
    "    if flagPrime == True and n!=1:\n",
    "        return(\"Prime\")\n",
    "    else:\n",
    "        return(\"Not prime\")\n",
    "\n",
    "p = int(input())\n",
    "for i in range(p):\n",
    "    n = int(input())\n",
    "    print(primality(n))\n"
   ]
  }
 ],
 "metadata": {
  "kernelspec": {
   "display_name": "Python 3",
   "language": "python",
   "name": "python3"
  },
  "language_info": {
   "codemirror_mode": {
    "name": "ipython",
    "version": 3
   },
   "file_extension": ".py",
   "mimetype": "text/x-python",
   "name": "python",
   "nbconvert_exporter": "python",
   "pygments_lexer": "ipython3",
   "version": "3.7.1"
  }
 },
 "nbformat": 4,
 "nbformat_minor": 2
}
