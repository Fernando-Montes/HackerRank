{
 "cells": [
  {
   "cell_type": "code",
   "execution_count": 138,
   "metadata": {},
   "outputs": [
    {
     "data": {
      "text/plain": [
       "True"
      ]
     },
     "execution_count": 138,
     "metadata": {},
     "output_type": "execute_result"
    }
   ],
   "source": [
    "# Write a function that returns true when number of things (N) can be precisely \n",
    "# divided into boxes of 6, 9 and 20 => N = 6x + 9y + 20z  \n",
    "\n",
    "def fitBoxes(n):\n",
    "    if n == 0 or n==6 or n==9 or n==12 or n==15 or n==18:\n",
    "        return True\n",
    "    for i in range(int(n/20)):\n",
    "        for j in range(int((n-20*i)/9)):\n",
    "            if (n-20*i-j*9)%6 == 0:\n",
    "                return True\n",
    "    return False\n",
    "\n",
    "fitBoxes(6*2+ 9*1 + 20*10)"
   ]
  }
 ],
 "metadata": {
  "kernelspec": {
   "display_name": "Python 3",
   "language": "python",
   "name": "python3"
  },
  "language_info": {
   "codemirror_mode": {
    "name": "ipython",
    "version": 3
   },
   "file_extension": ".py",
   "mimetype": "text/x-python",
   "name": "python",
   "nbconvert_exporter": "python",
   "pygments_lexer": "ipython3",
   "version": "3.7.1"
  }
 },
 "nbformat": 4,
 "nbformat_minor": 2
}
