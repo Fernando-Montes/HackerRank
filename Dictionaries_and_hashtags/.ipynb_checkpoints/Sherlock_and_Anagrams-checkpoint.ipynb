{
 "cells": [
  {
   "cell_type": "code",
   "execution_count": 97,
   "metadata": {},
   "outputs": [
    {
     "name": "stdout",
     "output_type": "stream",
     "text": [
      "1\n",
      "ifailuhkqqhucpoltgtyovarjsnrbfpvmupwjjjfiwwhrlkpekxxnebfrwibylcvkfealgonjkzwlyfhhkefuvgndgdnbelgruel\n",
      "399\n",
      "\n"
     ]
    }
   ],
   "source": [
    "# Sherlock and Anagrams\n",
    "from collections import Counter\n",
    "\n",
    "def sherlockAndAnagrams(s):\n",
    "    l = len(s) \n",
    "    total = 0\n",
    "    for k in range(1, l+1): # loop over number of characters in substring  \n",
    "        sa = []\n",
    "        for i in range(0, l-k+1):  # loop over all elements in string\n",
    "            sa.append( \"\".join(sorted(s[i:(i+k)])) ) # sorted so all substring anagrams are the same\n",
    "        d = Counter(sa)       # create dictionary of unique elements that has number of repetitions     \n",
    "        for j in d:\n",
    "            total = total + d[j]*(d[j]-1)/2 # Choose 2 out of repetitions      \n",
    "    return int(total)\n",
    "\n",
    "q = int(input())\n",
    "for q_itr in range(q):\n",
    "    s = input()\n",
    "    result = sherlockAndAnagrams(s)\n",
    "    print(str(result) + '\\n')"
   ]
  },
  {
   "cell_type": "code",
   "execution_count": 70,
   "metadata": {},
   "outputs": [],
   "source": [
    "sorted()"
   ]
  },
  {
   "cell_type": "code",
   "execution_count": null,
   "metadata": {},
   "outputs": [],
   "source": []
  }
 ],
 "metadata": {
  "kernelspec": {
   "display_name": "Python 3",
   "language": "python",
   "name": "python3"
  },
  "language_info": {
   "codemirror_mode": {
    "name": "ipython",
    "version": 3
   },
   "file_extension": ".py",
   "mimetype": "text/x-python",
   "name": "python",
   "nbconvert_exporter": "python",
   "pygments_lexer": "ipython3",
   "version": "3.7.1"
  }
 },
 "nbformat": 4,
 "nbformat_minor": 2
}
