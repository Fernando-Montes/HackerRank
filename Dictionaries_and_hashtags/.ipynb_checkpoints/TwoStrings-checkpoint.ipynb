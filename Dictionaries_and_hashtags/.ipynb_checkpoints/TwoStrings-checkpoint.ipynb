{
 "cells": [
  {
   "cell_type": "code",
   "execution_count": 27,
   "metadata": {},
   "outputs": [
    {
     "name": "stdout",
     "output_type": "stream",
     "text": [
      "1\n",
      "hi\n",
      "world\n",
      "NO\n",
      "\n"
     ]
    }
   ],
   "source": [
    "# Two Strings\n",
    "def twoStrings(s1, s2):\n",
    "    d1 = {str(c): c for c in [c for c in s1]}\n",
    "    d2 = {str(c): c for c in [c for c in s2]}\n",
    "    for c in d1:\n",
    "        if c in d2:\n",
    "            return 'YES'\n",
    "    return 'NO'\n",
    "\n",
    "q = int(input())\n",
    "for q_itr in range(q):\n",
    "    s1 = input()\n",
    "    s2 = input()\n",
    "    result = twoStrings(s1, s2)\n",
    "    print(result + '\\n')"
   ]
  },
  {
   "cell_type": "code",
   "execution_count": null,
   "metadata": {},
   "outputs": [],
   "source": []
  }
 ],
 "metadata": {
  "kernelspec": {
   "display_name": "Python 3",
   "language": "python",
   "name": "python3"
  },
  "language_info": {
   "codemirror_mode": {
    "name": "ipython",
    "version": 3
   },
   "file_extension": ".py",
   "mimetype": "text/x-python",
   "name": "python",
   "nbconvert_exporter": "python",
   "pygments_lexer": "ipython3",
   "version": "3.7.1"
  }
 },
 "nbformat": 4,
 "nbformat_minor": 2
}
